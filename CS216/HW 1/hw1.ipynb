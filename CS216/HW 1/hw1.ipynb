{
 "cells": [
  {
   "cell_type": "markdown",
   "metadata": {},
   "source": [
    "# HW 1\n",
    "__CS 216, Everything Data, Spring 2020__\n",
    "\n",
    "__DUE: Monday Jan. 27 by 4:40 pm (class time)__\n",
    "\n",
    "This homework assignment is in five parts. First, you will get some hands on experience and tutorials with regular expressions, Pandas, and OpenRefine. We strongly reccomend that you go through these exercises and tutorials in Parts 1 through 3 first before moving on to the problems in Parts 4 and 5. You can include all of your answers (either text written in Markdown cells or code written in code cells) within this notebook. You will then convert your notebook to a .pdf and a .py file to submit to gradescope (submission instructions are included at the bottom).\n",
    "\n",
    "Please take note of the [course collaboration policy](https://sites.duke.edu/compsci216s2020/policies/). You may work alone or with a single partner. If you work with a partner, you may not split up the assignment; you should work together in-person or complete parts independently and come together to discuss your solutions. In either case, you are individually responsible for your work, and should understand everything in your submission.  "
   ]
  },
  {
   "cell_type": "markdown",
   "metadata": {},
   "source": [
    "### Name and NetID\n",
    "Write your name and netID (along with your partner if you have one) in the Markdown cell below."
   ]
  },
  {
   "cell_type": "markdown",
   "metadata": {},
   "source": [
    "Joe Cusano (jgc28) and Pierce Forte (phf7)"
   ]
  },
  {
   "cell_type": "markdown",
   "metadata": {},
   "source": [
    "## Part 1: Regular Expressions Practice\n",
    "\n",
    "As discussed in class, regular expressions are a formal language for specifying strings of characters. That can be very helpful when wrangling and cleaning data, so you should start by practicing to get some basic familiarity with regular expressions. Review the materials from lecture, then go to [regex101.com](https://regex101.com). You should see an interactive console that allows you to practice regular expressions (feel free to switch to the Python flavor in the bottom left if you prefer; note that the regular expressions themselves are the same regardless).\n",
    "\n",
    "Play around with the console until you are comfortable, then go to the quiz and complete the first six tasks. In each, you will be asked to write a regular expression. You can submit and get feedback until you get it right.\n",
    "\n",
    "### What to turn in\n",
    "\n",
    "For part 1, write the six regular expressions that solve the six tasks in the quiz. Write your answers in the markdown cell below. Don't worry about how short your expressions are, just try to solve the tasks. Please clearly number and delineate the answers to different tasks."
   ]
  },
  {
   "cell_type": "markdown",
   "metadata": {},
   "source": [
    "### Part 1 Answer "
   ]
  },
  {
   "cell_type": "markdown",
   "metadata": {},
   "source": [
    "Question 1: /\\b[Ww][Oo][Rr][Dd]\\b/\n",
    "\n",
    "Question 2: Reguluar Expression: s/\\bi\\b/g Substitution: /I/\n",
    "\n",
    "Question 3: /[B-D]|[F-H]|[J-N]|[P-T]|[V-Z]/g\n",
    "\n",
    "Question 4: /[0-9]+/g\n",
    "\n",
    "Question 5:/\\s{4}\\s*/g\n",
    "\n",
    "Question 6: Regular Expression: s/(.)\\1{2}/g Substitution: /\\1/"
   ]
  },
  {
   "cell_type": "markdown",
   "metadata": {},
   "source": [
    "## Part 2: Pandas Tutorial\n",
    "\n",
    "As discussed in class, Pandas is a powerful library for dealing with structured data in Python, and you can handle a lot of data wrangling and cleaning using Pandas data structures and Python operations. This tutorial is intended as a brief introduction to using Pandas.\n",
    "\n",
    "1. First, go to [pandas.pydata.org/pandas-docs/stable](https://pandas.pydata.org/pandas-docs/stable/index.html) and read the section titled 10 minutes to Pandas. Note that this page also gives the official documentation for any other functions in Pandas you might need to use.\n",
    "2. (optional) If you would like to use Pandas instead of OpenRefine for the later parts of the assignment, you may want to read more about how to use it to wrangle and clean data. You can check out chapter 4 on Pandas from [Python Data Science Handbook](https://jakevdp.github.io/PythonDataScienceHandbook/), which comes with Jupyter notebooks to follow along in examples. For an even shorter and more specific tutorial, try this [data cleaning article](https://realpython.com/python-data-cleaning-numpy-pandas/), which also has a linked Jupyter notebook where you can follow along. If you prefer to use a graphical interface for wrangling and cleaning data in this assignment, feel free to skip this second step and go straight to the OpenRefine tutorial in Part 3.\n",
    "\n",
    "### What to turn in\n",
    "\n",
    "Nothing to submit for part 2.\n"
   ]
  },
  {
   "cell_type": "markdown",
   "metadata": {},
   "source": [
    "## Part 3: OpenRefine Tutorial\n",
    "\n",
    "Data often comes along messy. Either people make mistakes entering and collecting data, or the data you got is in the wrong format for what you want to do with it.  [OpenRefine](http://openrefine.org/) is a powerful data wrangling tool that  was built to deal with these kinds of problems and to bring data into the shape you need, all inside of a graphical user interface designed to make it more accessible. For completing the subsequent parts of the assignment, you may wish to use OpenRefine instead of Python and Pandas. We particularly reccomend that you use OpenRefine if you are still getting used to programming in Python. Regardless, in this part you should try out OpenRefine to add an additional tool to your data cleaning toolbox. \n",
    "\n",
    "1. First, visit the OpenRefine website and watch the short videos on exploring data and cleaning & transforming data. These will introduce you to the OpenRefine design and functionality. \n",
    "2. Next, install OpenRefine. Visit http://openrefine.org/download.html and download the kit for your operating system.\n",
    "3. Finally, complete the short step by step OpenRefine tutorial included in the box folder for this assignment (just open the .html file to view the tutorial in your web browser). (This tutorial originally came from http://unurl.org/cbclean. It has been cleaned up and modified a bit.)\n",
    "4. (optional) If you would like even more tutorials on using OpenRefine, feel free to browse the extensive curated list of tutorials maintained by the developers: https://github.com/OpenRefine/OpenRefine/wiki/External-Resources. \n",
    "\n",
    "### What to turn in\n",
    "\n",
    "Nothing to submit for part 3."
   ]
  },
  {
   "cell_type": "markdown",
   "metadata": {},
   "source": [
    "## Part 4: Cleaning up system logs\n",
    "\n",
    "Now that you have experienced regular expressions, Pandas, and OpenRefine, it's time to use your tools to clean some data. In this part you will use OpenRefine or Python (your choice) to clean and analyze system logs. You can find a csv of the data inside the box folder for this homework assignment; it is titled 'monitor.csv'. Answer the following questions: \n",
    "\n",
    "1. Identify at least two problems with this dataset. For each, explain intuitively (in English, not code) what you will do in data cleaning to fix the problem and make the dataset more usable. \n",
    "\n",
    "2. What is the average and median running time of the program? Provide the code you use to clean the dataset and answer the question. If you are using OpenRefine, simply write the sequence of steps you took in OpenRefine explicitly.   \n",
    "\n",
    "4. What is the average and median memory of the program? Provide the code you use to clean the dataset and answer the question. If you are using OpenRefine, simply write the sequence of steps you took in OpenRefine explicitly.\n",
    " \n",
    "\n",
    "### What to turn in\n",
    "Type your answer to each of the three enumerated questions above. Write in the markdown cell below, but feel free to add additional cells (Markdown or Code) as needed to solve the problem. Please clearly number and delineate the answers to different questions.\n"
   ]
  },
  {
   "cell_type": "markdown",
   "metadata": {},
   "source": [
    "### Part 4 Answer"
   ]
  },
  {
   "cell_type": "markdown",
   "metadata": {},
   "source": [
    " 1. The labels for each column are column 1, 2... .  In order to fix this, I will relabel the columns.  Moreover, the system mem is split into two different columns and has both megabits and gigabits. I will convert the gigabits to megabits and then add them to the megabits.  Also, the system time is labeled as both minutes and seconds.  I believe the columns labeled minutes are a typo and that all data should be treated as seconds.\n",
    " "
   ]
  },
  {
   "cell_type": "code",
   "execution_count": 5,
   "metadata": {},
   "outputs": [
    {
     "name": "stdout",
     "output_type": "stream",
     "text": [
      "33.0\n",
      "32.642\n"
     ]
    }
   ],
   "source": [
    "import numpy as np\n",
    "import pandas as pd\n",
    "df = pd.read_csv(\"cleanMonitor.csv\")\n",
    "\n",
    "#Mean and Median of System Time\n",
    "print(df[df.columns[0]].median())\n",
    "print(df[df.columns[0]].mean())\n",
    "\n",
    "#Mean and Median of System Memory\n",
    "print(df[df.columns[1]].median())\n",
    "print(df[df.columns[1]].mean())"
   ]
  },
  {
   "cell_type": "markdown",
   "metadata": {},
   "source": [
    "## Part 5: Wrangling Congressional Member Listing\n",
    "\n",
    "\n",
    "[govtrack.us](https://www.google.com/url?q=http://www.govtrack.us/&sa=D&ust=1516309781268000&usg=AFQjCNHmEaudoYkhtS2Du47GafoIeXdJYw) contains a wealth of data on the U.S. Congress (that is, both the house and senate). Along with partners, they curate a publicly available dataset containing, among other things, information on all current members of the U.S. Congress: https://github.com/unitedstates/congress-legislators. Pull the legislators-current file from the repository. It is available in different formats: the master branch maintains it as a .yaml file, but if you scroll down it is also available as a .json or .csv; the choice is up to you. Using this dataset (and no other sources; you will not get credit for pulling stats from online without showing any work), answer the following questions. \n",
    "\n",
    "For each question, provide the code you use to answer the questions. If you are using OpenRefine, simply write the sequence of steps you took in OpenRefine explicitly.\n",
    "\n",
    "1. What percentage of the current U.S. congress is identified as female?\n",
    "\n",
    "2. What percentage of current members were at least 60 years old as of January 16, 2020?\n",
    "\n",
    "3. Members of the U.S. Congress are either serving a term in the senate or the house. What is the average age of members of the senate? What is the average age of members of the house?\n",
    "\n",
    "4. For each possible party affiliation (R for Republicans, D for Democrats, and I for independents), list the number of members with that affiliation.\n",
    "\n",
    "\n",
    "\n",
    "\n",
    "### What to turn in\n",
    "Type your answer to each of the four enumerated questions above. Be sure to provide the code (or OpenRefine instructions) you use. Write in the markdown cell below, but feel free to add additional cells (Markdown or Code) as needed to solve the problem. Please clearly number and delineate the answers to different questions.\n"
   ]
  },
  {
   "cell_type": "markdown",
   "metadata": {},
   "source": [
    "Question 1: First thing I did was go into open refine and remove all the columns with unecessary info from the csv and exported it to a new csv called LegislatorsClean.  Then, I used pandas to figure out what percentage of congress is female. The code is below. There are 24.4% females in congress."
   ]
  },
  {
   "cell_type": "code",
   "execution_count": 15,
   "metadata": {},
   "outputs": [
    {
     "name": "stdout",
     "output_type": "stream",
     "text": [
      "0.24440298507462688\n"
     ]
    }
   ],
   "source": [
    "import pandas as pd\n",
    "import numpy as np\n",
    "\n",
    "df = pd.read_csv(\"LegislatorsClean.csv\")\n",
    "total = 0.0\n",
    "female = 0.0\n",
    "for gender in df[df.columns[2]]:\n",
    "    if(\"F\" in gender):\n",
    "        female += 1\n",
    "    total += 1\n",
    "print(female/total)\n"
   ]
  },
  {
   "cell_type": "markdown",
   "metadata": {},
   "source": [
    "Question 2: Code below. 50.19% of congress is at least 60."
   ]
  },
  {
   "cell_type": "code",
   "execution_count": 19,
   "metadata": {},
   "outputs": [
    {
     "name": "stdout",
     "output_type": "stream",
     "text": [
      "0.5018656716417911\n"
     ]
    }
   ],
   "source": [
    "import pandas as pd\n",
    "import numpy as np\n",
    "import datetime\n",
    "\n",
    "old = 0.0\n",
    "total = 0.0\n",
    "df = pd.read_csv(\"LegislatorsClean.csv\")\n",
    "for date in df[df.columns[1]]:\n",
    "    total += 1\n",
    "    if pd.to_datetime(date) <= datetime.date(1960, 1, 16):\n",
    "        old += 1\n",
    "print(old/total)"
   ]
  },
  {
   "cell_type": "markdown",
   "metadata": {},
   "source": [
    "Question 3: Code below. "
   ]
  },
  {
   "cell_type": "code",
   "execution_count": 41,
   "metadata": {},
   "outputs": [
    {
     "ename": "AttributeError",
     "evalue": "module 'pandas' has no attribute 'to_ddatetime'",
     "output_type": "error",
     "traceback": [
      "\u001b[0;31m---------------------------------------------------------------------------\u001b[0m",
      "\u001b[0;31mAttributeError\u001b[0m                            Traceback (most recent call last)",
      "\u001b[0;32m<ipython-input-41-935b1cfd077d>\u001b[0m in \u001b[0;36m<module>\u001b[0;34m\u001b[0m\n\u001b[1;32m     12\u001b[0m \u001b[0mtotalAgeHouse\u001b[0m \u001b[0;34m=\u001b[0m \u001b[0;36m0.0\u001b[0m\u001b[0;34m\u001b[0m\u001b[0;34m\u001b[0m\u001b[0m\n\u001b[1;32m     13\u001b[0m \u001b[0;32mfor\u001b[0m \u001b[0mrow\u001b[0m \u001b[0;32min\u001b[0m \u001b[0mrange\u001b[0m\u001b[0;34m(\u001b[0m\u001b[0mlen\u001b[0m\u001b[0;34m(\u001b[0m\u001b[0mdf\u001b[0m\u001b[0;34m[\u001b[0m\u001b[0mdf\u001b[0m\u001b[0;34m.\u001b[0m\u001b[0mcolumns\u001b[0m\u001b[0;34m[\u001b[0m\u001b[0;36m1\u001b[0m\u001b[0;34m]\u001b[0m\u001b[0;34m]\u001b[0m\u001b[0;34m)\u001b[0m\u001b[0;34m)\u001b[0m\u001b[0;34m:\u001b[0m\u001b[0;34m\u001b[0m\u001b[0;34m\u001b[0m\u001b[0m\n\u001b[0;32m---> 14\u001b[0;31m     \u001b[0mbDate\u001b[0m \u001b[0;34m=\u001b[0m \u001b[0mpd\u001b[0m\u001b[0;34m.\u001b[0m\u001b[0mto_ddatetime\u001b[0m\u001b[0;34m(\u001b[0m\u001b[0mdf\u001b[0m\u001b[0;34m.\u001b[0m\u001b[0miloc\u001b[0m\u001b[0;34m[\u001b[0m\u001b[0;34m[\u001b[0m\u001b[0;36m1\u001b[0m\u001b[0;34m]\u001b[0m\u001b[0;34m[\u001b[0m\u001b[0mrow\u001b[0m\u001b[0;34m]\u001b[0m\u001b[0;34m]\u001b[0m\u001b[0;34m)\u001b[0m\u001b[0;34m\u001b[0m\u001b[0;34m\u001b[0m\u001b[0m\n\u001b[0m\u001b[1;32m     15\u001b[0m \u001b[0mprint\u001b[0m\u001b[0;34m(\u001b[0m\u001b[0mtotalAge\u001b[0m\u001b[0;34m/\u001b[0m\u001b[0mtotalMem\u001b[0m\u001b[0;34m)\u001b[0m\u001b[0;34m\u001b[0m\u001b[0;34m\u001b[0m\u001b[0m\n",
      "\u001b[0;32m/opt/anaconda3/lib/python3.7/site-packages/pandas/__init__.py\u001b[0m in \u001b[0;36m__getattr__\u001b[0;34m(name)\u001b[0m\n\u001b[1;32m    212\u001b[0m \u001b[0;34m\u001b[0m\u001b[0m\n\u001b[1;32m    213\u001b[0m             \u001b[0;32mreturn\u001b[0m \u001b[0mPanel\u001b[0m\u001b[0;34m\u001b[0m\u001b[0;34m\u001b[0m\u001b[0m\n\u001b[0;32m--> 214\u001b[0;31m         \u001b[0;32mraise\u001b[0m \u001b[0mAttributeError\u001b[0m\u001b[0;34m(\u001b[0m\u001b[0;34m\"module 'pandas' has no attribute '{}'\"\u001b[0m\u001b[0;34m.\u001b[0m\u001b[0mformat\u001b[0m\u001b[0;34m(\u001b[0m\u001b[0mname\u001b[0m\u001b[0;34m)\u001b[0m\u001b[0;34m)\u001b[0m\u001b[0;34m\u001b[0m\u001b[0;34m\u001b[0m\u001b[0m\n\u001b[0m\u001b[1;32m    215\u001b[0m \u001b[0;34m\u001b[0m\u001b[0m\n\u001b[1;32m    216\u001b[0m \u001b[0;34m\u001b[0m\u001b[0m\n",
      "\u001b[0;31mAttributeError\u001b[0m: module 'pandas' has no attribute 'to_ddatetime'"
     ]
    }
   ],
   "source": [
    "import pandas as pd\n",
    "import numpy as np\n",
    "import datetime\n",
    "\n",
    "def age(cDate, bDate):\n",
    "    return cDate.year - bDate.year - ((bDate.month, bDate.day) > (cDate.month, cDate.day))\n",
    "\n",
    "cDate = datetime.datetime(2020, 1, 16)\n",
    "totalMemSen = 0.0\n",
    "totalAgeSen = 0.0\n",
    "totalMemHouse = 0.0\n",
    "totalAgeHouse = 0.0\n",
    "for row in range(len(df[df.columns[1]])):\n",
    "\n",
    "print(totalAge/totalMem)"
   ]
  },
  {
   "cell_type": "markdown",
   "metadata": {},
   "source": [
    "Question 4: Code below. 252 Republicans. 281 Democrats. 3 Independents."
   ]
  },
  {
   "cell_type": "code",
   "execution_count": 32,
   "metadata": {},
   "outputs": [
    {
     "name": "stdout",
     "output_type": "stream",
     "text": [
      "There are 252 Republicans, 281 Democrats, and 3 Independents\n"
     ]
    }
   ],
   "source": [
    "import pandas as pd\n",
    "import numpy as np\n",
    "\n",
    "rep = 0\n",
    "dem = 0\n",
    "i = 0\n",
    "\n",
    "for party in df[df.columns[4]]:\n",
    "    if(\"Independent\" in party):\n",
    "        i += 1\n",
    "    elif(\"Republican\" in party):\n",
    "        rep += 1\n",
    "    else:\n",
    "        dem += 1\n",
    "print(\"There are \" + str(rep) + \" Republicans, \" + str(dem) + \" Democrats, and \" + str(i) + \" Independents\")"
   ]
  },
  {
   "cell_type": "markdown",
   "metadata": {},
   "source": [
    "## Submitting HW 1  \n",
    "1. Double check that you have written all of your answers along with your supporting work in this notebook. Make sure you save the complete notebook.\n",
    "1. Double check that your entire notebook runs correctly and generates the expected output. To do so, you can simply select Kernel -> Restart and Run All. \n",
    "2. You will download two versions of your notebook to submit, a .pdf and a .py. To create a PDF, we reccomend that you select File --> Download as --> HTML (.html). Open the downloaded .html file; it should open in your web broser. Double check that it looks like your notebook, then print a .pdf using your web browser (you should be able to select to print to a pdf on most major web browsers and operating systems). Check your .pdf for readability: If some long cells are being cut off, go back to your notebook and split them into multiple smaller cells. To get the .py file from your notebook, simply select File -> Download as -> Python (.py).\n",
    "3. Upload the .pdf to gradescope under hw1 report and the .py to gradescope under hw1 code. If you work with a partner, only submit one document for both of you, but be sure to add your partner using the [group feature on gradescope](https://www.gradescope.com/help#help-center-item-student-group-members)."
   ]
  },
  {
   "cell_type": "code",
   "execution_count": null,
   "metadata": {},
   "outputs": [],
   "source": []
  }
 ],
 "metadata": {
  "kernelspec": {
   "display_name": "Python 3",
   "language": "python",
   "name": "python3"
  },
  "language_info": {
   "codemirror_mode": {
    "name": "ipython",
    "version": 3
   },
   "file_extension": ".py",
   "mimetype": "text/x-python",
   "name": "python",
   "nbconvert_exporter": "python",
   "pygments_lexer": "ipython3",
   "version": "3.7.4"
  }
 },
 "nbformat": 4,
 "nbformat_minor": 2
}
