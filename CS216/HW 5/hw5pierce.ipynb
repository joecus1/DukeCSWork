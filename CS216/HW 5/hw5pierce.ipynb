{
 "cells": [
  {
   "cell_type": "markdown",
   "metadata": {},
   "source": [
    "# HW 5\n",
    "__CS 216, Everything Data, Spring 2020__\n",
    "\n",
    "__DUE: Monday Feb. 24 by 4:40 pm (class time)__\n",
    "\n",
    "**Pierce Forte (phf7), Joe Cusano (jgc28)**\n",
    "\n",
    "In this assignment, you will use Numpy to build three different basic classifiers for prediction. You will include all of your answers for this assignment within this notebook. You will then convert your notebook to a .pdf and a .py file to submit to gradescope (submission instructions are included at the bottom).\n",
    "\n",
    "Please take note of the [course collaboration policy](https://sites.duke.edu/compsci216s2020/policies/). You may work alone or with a single partner. If you work with a partner, you may not split up the assignment; you should work together in-person or complete parts independently and come together to discuss your solutions. In either case, you are individually responsible for your work, and should understand everything in your submission."
   ]
  },
  {
   "cell_type": "markdown",
   "metadata": {},
   "source": [
    "# Part 1: Getting Started with Numpy\n",
    "Numpy is the standard library for scientific computing with Python, and Numpy arrays are the standard data structure for working with prediction tasks in Python. If you are unfamiliar with Numpy, we reccomend that you start this assignment by reviewing the brief tutorial on Numpy at http://cs231n.github.io/python-numpy-tutorial/#numpy (just the Numpy section). The Numpy documentation itself also contains an expanded tutorial https://numpy.org/doc/1.17/user/quickstart.html. We mention a few particularly important notes here.\n",
    "- You can easily turn any Python list into a Numpy array (for example, ar = numpy.array([0,1,2]) creates a Numpy array named ar containing 1, 2, and 3).\n",
    "- Indexing and slicing 1-d Numpy arrays is similar to indexing and slicing Python lists. For example, ar[1:] returns [1,2]. \n",
    "- Indexing and slicing 2-d Numpy arrays is similar to using the `.iloc` method on a Pandas dataframe. For example, if you have a 2-d Numpy array Mat and you want the entry for row 0, column 5, you would just index Mat[0,5]. If you want column 5, you just write Mat[:,5]. \n",
    "- Operations on Numpy arrays are element-wise *by default*. For example, ar+5 would return [5, 6, 7]. ar+ar would return [0, 2, 4]. \n",
    "- Building on the element-wise theme, writing a boolean condition will return a True/False array. For example, ar==1 would return [False, True, False].\n",
    "- Similar to Pandas filtering, you can use a boolean mask of this sort to filter a Numpy array. For example, ar[ar >= 1] would return [1, 2].\n",
    "- Numpy comes with full support for nearly all mathematical computing needs. You can find the reference documentation at https://docs.scipy.org/doc/numpy/reference. Of particular interest are the many mathematical functions implemented in Numpy https://docs.scipy.org/doc/numpy/reference/routines.math and the many random sampling functions implemented in Numpy https://docs.scipy.org/doc/numpy/reference/random/index."
   ]
  },
  {
   "cell_type": "markdown",
   "metadata": {},
   "source": [
    "Once you have familiarized yourself with the basics of Numpy, it's time to start building classifiers for prediction. Run the below codeblocks to import libraries and define a function to calculate the uniform error of a prediction. Recall that the uniform error is just the percentage of predictions that are not the same as the true class."
   ]
  },
  {
   "cell_type": "code",
   "execution_count": 2,
   "metadata": {},
   "outputs": [],
   "source": [
    "import pandas as pd\n",
    "import numpy as np"
   ]
  },
  {
   "cell_type": "code",
   "execution_count": 3,
   "metadata": {},
   "outputs": [],
   "source": [
    "def uniform_error(prediction, target):\n",
    "    n = len(prediction)\n",
    "    if(n != len(target)):\n",
    "        print('Error: prediction and target should have same length')\n",
    "        return(1)\n",
    "    else:\n",
    "        return((n-np.sum(prediction==target))/n)"
   ]
  },
  {
   "cell_type": "markdown",
   "metadata": {},
   "source": [
    "# Part 2: Naive Bayes Classifier\n",
    "In this part of the assignment, you will implement a simple Naive Bayes classifier for predicting political party membership of members of the house of represenatives based on votes.\n",
    "\n",
    "Each row corresponds to a member of congress. The first column has a 1 if that member is a republican, and a 0 if that member is a democrat. The next 16 columns contain information about sixteen different votes that were taken in that year; there is a 1 if the member voted positively on that issue, and a 0 if that member voted negatively on that issue. We want to predict the first column based on the next sixteen."
   ]
  },
  {
   "cell_type": "code",
   "execution_count": 4,
   "metadata": {},
   "outputs": [
    {
     "data": {
      "text/html": [
       "<div>\n",
       "<style scoped>\n",
       "    .dataframe tbody tr th:only-of-type {\n",
       "        vertical-align: middle;\n",
       "    }\n",
       "\n",
       "    .dataframe tbody tr th {\n",
       "        vertical-align: top;\n",
       "    }\n",
       "\n",
       "    .dataframe thead th {\n",
       "        text-align: right;\n",
       "    }\n",
       "</style>\n",
       "<table border=\"1\" class=\"dataframe\">\n",
       "  <thead>\n",
       "    <tr style=\"text-align: right;\">\n",
       "      <th></th>\n",
       "      <th>republican</th>\n",
       "      <th>v_1</th>\n",
       "      <th>v_2</th>\n",
       "      <th>v_3</th>\n",
       "      <th>v_4</th>\n",
       "      <th>v_5</th>\n",
       "      <th>v_6</th>\n",
       "      <th>v_7</th>\n",
       "      <th>v_8</th>\n",
       "      <th>v_9</th>\n",
       "      <th>v_10</th>\n",
       "    </tr>\n",
       "  </thead>\n",
       "  <tbody>\n",
       "    <tr>\n",
       "      <td>0</td>\n",
       "      <td>0</td>\n",
       "      <td>0</td>\n",
       "      <td>0</td>\n",
       "      <td>0</td>\n",
       "      <td>0</td>\n",
       "      <td>0</td>\n",
       "      <td>0</td>\n",
       "      <td>0</td>\n",
       "      <td>0</td>\n",
       "      <td>0</td>\n",
       "      <td>0</td>\n",
       "    </tr>\n",
       "    <tr>\n",
       "      <td>1</td>\n",
       "      <td>0</td>\n",
       "      <td>0</td>\n",
       "      <td>0</td>\n",
       "      <td>0</td>\n",
       "      <td>0</td>\n",
       "      <td>0</td>\n",
       "      <td>0</td>\n",
       "      <td>0</td>\n",
       "      <td>0</td>\n",
       "      <td>0</td>\n",
       "      <td>0</td>\n",
       "    </tr>\n",
       "    <tr>\n",
       "      <td>2</td>\n",
       "      <td>1</td>\n",
       "      <td>1</td>\n",
       "      <td>1</td>\n",
       "      <td>1</td>\n",
       "      <td>1</td>\n",
       "      <td>1</td>\n",
       "      <td>1</td>\n",
       "      <td>1</td>\n",
       "      <td>1</td>\n",
       "      <td>1</td>\n",
       "      <td>1</td>\n",
       "    </tr>\n",
       "    <tr>\n",
       "      <td>3</td>\n",
       "      <td>0</td>\n",
       "      <td>0</td>\n",
       "      <td>0</td>\n",
       "      <td>0</td>\n",
       "      <td>0</td>\n",
       "      <td>0</td>\n",
       "      <td>0</td>\n",
       "      <td>0</td>\n",
       "      <td>0</td>\n",
       "      <td>0</td>\n",
       "      <td>0</td>\n",
       "    </tr>\n",
       "    <tr>\n",
       "      <td>4</td>\n",
       "      <td>1</td>\n",
       "      <td>1</td>\n",
       "      <td>1</td>\n",
       "      <td>1</td>\n",
       "      <td>1</td>\n",
       "      <td>1</td>\n",
       "      <td>1</td>\n",
       "      <td>1</td>\n",
       "      <td>1</td>\n",
       "      <td>1</td>\n",
       "      <td>1</td>\n",
       "    </tr>\n",
       "  </tbody>\n",
       "</table>\n",
       "</div>"
      ],
      "text/plain": [
       "   republican  v_1  v_2  v_3  v_4  v_5  v_6  v_7  v_8  v_9  v_10\n",
       "0           0    0    0    0    0    0    0    0    0    0     0\n",
       "1           0    0    0    0    0    0    0    0    0    0     0\n",
       "2           1    1    1    1    1    1    1    1    1    1     1\n",
       "3           0    0    0    0    0    0    0    0    0    0     0\n",
       "4           1    1    1    1    1    1    1    1    1    1     1"
      ]
     },
     "execution_count": 4,
     "metadata": {},
     "output_type": "execute_result"
    }
   ],
   "source": [
    "df_v = pd.read_csv('votes.csv')\n",
    "df_v.head()"
   ]
  },
  {
   "cell_type": "markdown",
   "metadata": {},
   "source": [
    "The first thing we do when learning a predictive model from data is split the dataset into training and test data. For each, we separate the target variable we want to predict (`y` and `y_test` below), and the variables we want to use to predict (`x` and `x_test` below). We will use our training data to learn our predictive model, and then use the test data to verify its accuracy (it is, of course, no great accomplishment to do well at prediction for the data points the model has already seen in training; you can always just memorize the training data). \n",
    "\n",
    "Below, we randomly split 1/3 of the data into the test set (`x_test` and `y_test`) and the remaining 2/3 of the data into the training set (`x` and `y`). We do this randomly to ensure that the training and test sets look very similar. You will also note that we convert all of the different datasets into Numpy arrays; `.values` in Pandas converts a Pandas dataframe into a Numpy array. Note that `x` and `x_test` are 2-d arrays, whereas `y` and `y_test` are 1-d arrays. In both cases, `y[i]` corresponds to the row `x[i,:]`. We print the first five rows of `x` and the first five values of `y`."
   ]
  },
  {
   "cell_type": "code",
   "execution_count": 5,
   "metadata": {},
   "outputs": [
    {
     "name": "stdout",
     "output_type": "stream",
     "text": [
      "[[0 0 0 0 0 0 0 0 0 0]\n",
      " [0 0 0 0 0 0 0 0 0 0]\n",
      " [1 1 1 1 1 1 1 1 1 1]\n",
      " [0 0 0 0 0 0 0 0 0 0]\n",
      " [0 1 0 1 1 0 0 0 0 0]]\n",
      "[0 0 1 0 1]\n"
     ]
    }
   ],
   "source": [
    "# Do not change this code, including the seed\n",
    "np.random.seed(137486213)\n",
    "test_indices = np.random.binomial(1, 0.33, df_v.shape[0])\n",
    "df_v['test'] = test_indices\n",
    "\n",
    "df_v_test = df_v[df_v['test']==1]\n",
    "df_v_train = df_v[df_v['test']==0]\n",
    "\n",
    "x = (df_v_train[['v_1', 'v_2', 'v_3', 'v_4', 'v_5', 'v_6', 'v_7', 'v_8', 'v_9', 'v_10']]).values\n",
    "x_test = (df_v_test[['v_1', 'v_2', 'v_3', 'v_4', 'v_5', 'v_6', 'v_7', 'v_8', 'v_9', 'v_10']]).values\n",
    "\n",
    "y = df_v_train['republican'].values\n",
    "y_test = df_v_test['republican'].values\n",
    "\n",
    "print(x[0:5,:])\n",
    "print(y[0:5])"
   ]
  },
  {
   "cell_type": "markdown",
   "metadata": {},
   "source": [
    "For a baseline, let's see what kind of error we get if we just guess randomly. Below, we generate a \"prediction\" for the test data by ignoring the test data altogether (we don't use `x_test` at all below) and just flipping a coin to predict 0 or 1 for each data point. Note that the prediction is also just a 1-d array where the entry at index `i` corresponds to a prediction for `y_test[i]`. As expected, this yields fairly high error (0.5 in expectation). In what follows, you will train a Naive Bayes classifier to improve on this performance."
   ]
  },
  {
   "cell_type": "code",
   "execution_count": 6,
   "metadata": {},
   "outputs": [
    {
     "name": "stdout",
     "output_type": "stream",
     "text": [
      "0.44680851063829785\n"
     ]
    }
   ],
   "source": [
    "random_guess = np.random.randint(2, size=len(y_test))\n",
    "print(uniform_error(random_guess, y_test))"
   ]
  },
  {
   "cell_type": "markdown",
   "metadata": {},
   "source": [
    "### Problem A\n",
    "Recall how Naive Bayes classifiers work: for a data point `x_test[i,:]` we want to predict the class `j` that maximizes the liklihood: the conditional probability of seeing `x[i,:]` given `j`. We make the assumption that the different features are independent given the class, that is, that we can break this probability up into the product over columns `c` of the probability of `x[i,c]` given `j`, all times the probability that `y=j`. \n",
    "\n",
    "First, compute all of the conditional probabilities on the training data. That is, for every column `c`, compute the conditional probability for a random representative `i` that `x[i,c]=1` given `y=1`, and the same conditional probability given `y=0` (note that the conditional probability that `x[i,c]=0` given `y=1` is just one minus the probability that `x[i,c]=1` given `y=1`, and the same for `y=0`). You will also need to compute the probability that `y=1` and the probability that `y=0`. Print the resulting probabilities."
   ]
  },
  {
   "cell_type": "code",
   "execution_count": 7,
   "metadata": {},
   "outputs": [
    {
     "name": "stdout",
     "output_type": "stream",
     "text": [
      "y=0: 48.29931972789115%\n",
      "y=1: 51.70068027210885%\n",
      "{0: 0.6830985915492958, 1: 0.7323943661971831, 2: 0.528169014084507, 3: 0.8873239436619719, 4: 0.7253521126760564, 5: 0.5774647887323944, 6: 0.5352112676056338, 7: 0.5563380281690141, 8: 0.6549295774647887, 9: 0.6901408450704225}\n",
      "{0: 0.3684210526315789, 1: 0.2631578947368421, 2: 0.40789473684210525, 3: 0.013157894736842105, 4: 0.06578947368421052, 5: 0.34210526315789475, 6: 0.42105263157894735, 7: 0.42105263157894735, 8: 0.23026315789473684, 9: 0.4144736842105263}\n",
      "{0: 0.31690140845070425, 1: 0.2676056338028169, 2: 0.47183098591549294, 3: 0.11267605633802817, 4: 0.2746478873239437, 5: 0.4225352112676056, 6: 0.4647887323943662, 7: 0.44366197183098594, 8: 0.34507042253521125, 9: 0.30985915492957744}\n",
      "{0: 0.631578947368421, 1: 0.7368421052631579, 2: 0.5921052631578947, 3: 0.9868421052631579, 4: 0.9342105263157895, 5: 0.6578947368421053, 6: 0.5789473684210527, 7: 0.5789473684210527, 8: 0.7697368421052632, 9: 0.5855263157894737}\n"
     ]
    }
   ],
   "source": [
    "# Write your code for Problem A here\n",
    "zeros = 0\n",
    "total = 0\n",
    "for i in range(0, len(y)):\n",
    "    total += 1\n",
    "    if y[i] == 0:\n",
    "        zeros += 1\n",
    "\n",
    "prob_y_zero = zeros/total\n",
    "prob_y_one = 1 - zeros/total\n",
    "print('y=0: ' + str(100*prob_y_zero) + '%')\n",
    "print('y=1: ' + str(100*prob_y_one) + '%')\n",
    "\n",
    "cond_prob_zero_y_zero = {}\n",
    "cond_prob_zero_y_one = {}\n",
    "cond_prob_one_y_zero = {}\n",
    "cond_prob_one_y_one = {}\n",
    "for c in range(0, len(x[0])):\n",
    "    cond_zero_y_zero = 0\n",
    "    cond_zero_y_one = 0\n",
    "    cond_one_y_zero = 0\n",
    "    cond_one_y_one = 0\n",
    "    total_y_zero = 0\n",
    "    total_y_one = 0\n",
    "    for i in range(0, len(y)):\n",
    "        if y[i] == 0:\n",
    "            total_y_zero += 1\n",
    "            if x[i,c] == 0:\n",
    "                cond_zero_y_zero += 1\n",
    "            else:\n",
    "                cond_one_y_zero += 1\n",
    "        elif y[i] == 1:\n",
    "            total_y_one += 1\n",
    "            if x[i,c] == 1:\n",
    "                cond_one_y_one += 1\n",
    "            else:\n",
    "                cond_zero_y_one += 1\n",
    "    cond_prob_zero_y_zero[c] = (cond_zero_y_zero/total_y_zero)# * prob_y_zero\n",
    "    cond_prob_zero_y_one[c] = (cond_zero_y_one/total_y_one)# * prob_y_one\n",
    "    cond_prob_one_y_zero[c] = (cond_one_y_zero/total_y_zero)# * prob_y_zero\n",
    "    cond_prob_one_y_one[c] = (cond_one_y_one/total_y_one)# * prob_y_one\n",
    "\n",
    "print(cond_prob_zero_y_zero)\n",
    "print(cond_prob_zero_y_one)\n",
    "print(cond_prob_one_y_zero)\n",
    "print(cond_prob_one_y_one)\n"
   ]
  },
  {
   "cell_type": "markdown",
   "metadata": {},
   "source": [
    "### Problem B\n",
    "Now that you have computed the marginals, use them to predict, for every test data point (that is, for each row in `x_test`), whether the given member is a republican (1) or a a democrat (0). More concretely, you should compute an array of the same length as `y_test` where for each entry, your prediction is a `1` or `0`. Do so by selecting, for each data point, the class (1 or 0) that maximizes the above likelihood under the independence assumption of the Naive Bayes classifier. You do not need to use Laplace smoothing for this example. Once you have your prediction, compute and print the uniform error of your prediction by comparing to `y_test`. For full credit, your classifier should have uniform error less than 0.15 on this particular data."
   ]
  },
  {
   "cell_type": "code",
   "execution_count": 13,
   "metadata": {},
   "outputs": [
    {
     "name": "stdout",
     "output_type": "stream",
     "text": [
      "0.1347517730496454\n"
     ]
    }
   ],
   "source": [
    "# Write your code for Problem B here\n",
    "predictions = []\n",
    "for i in range(0, len(x_test)):\n",
    "    prob_zero = 0\n",
    "    prob_one = 0\n",
    "    for c in range(0, len(x_test[0])):\n",
    "        if x_test[i,c] == 0:\n",
    "            prob_zero += cond_prob_zero_y_zero[c]\n",
    "            prob_one += cond_prob_zero_y_one[c]\n",
    "        else:\n",
    "            prob_zero += cond_prob_one_y_zero[c]\n",
    "            prob_one += cond_prob_one_y_one[c]\n",
    "    prob_one = prob_one * prob_y_zero\n",
    "    prob_zero = prob_zero * prob_y_zero\n",
    "    if prob_zero > prob_one:\n",
    "        predictions.append(0)\n",
    "    else:\n",
    "        predictions.append(1)\n",
    "        \n",
    "print(uniform_error(predictions, y_test))"
   ]
  },
  {
   "cell_type": "markdown",
   "metadata": {},
   "source": [
    "Note: if we only look at vote v_4 (column 3 in the probability dictionaries printed in Part A), then the uniform error is only 0.0851063829787234 (we can see this by uncommenting the if statement in the code above). Vote v_4 is one that Republicans (1) were extremely unlikely to vote for (about 1.32%), which is why it allowed us to obtain more accurate predictions. However, we were unsure whether we could use the likelihoods for only a single vote in determining the predictions for x_test. Nonetheless, considering all votes still gives us a uniform error of 0.1347517730496454, which is below 0.15."
   ]
  },
  {
   "cell_type": "markdown",
   "metadata": {},
   "source": [
    "# Part 3: Decision Tree Classification\n",
    "In this part, we will tackle the same prediction task as in Part 2 with the same data. However, instead of a Naive Bayes classifier, we will use a very simple decision tree that simply chooses a single feature on which to split the data."
   ]
  },
  {
   "cell_type": "markdown",
   "metadata": {},
   "source": [
    "### Problem C\n",
    "Recall that decision trees split the training data into different sets based on their values for a given feature. Concretely, we will choose a single column `c`, and split the data into two sets, one for the data points with `x[i,c]=1` and another for the data points with `x[i,c]=0`. Then, to make a prediction for a given test point, we simply check which of the sets it would go into, and predict the most common class (`y=1` or `y=0`) among the training data split into that set. \n",
    "\n",
    "To decide on the best feature to use for splitting, we calculate the information gain of a split as the entropy of the original distribution (over classes `y=1` and `y=0`) minus the weighted average of the entropy of the two distributions represented by the split. To begin, compute the information gain for every feature (that is, every column of `x`) in the training data. Which feature (that is, which column) has the greatest information gain?"
   ]
  },
  {
   "cell_type": "code",
   "execution_count": 8,
   "metadata": {},
   "outputs": [
    {
     "name": "stdout",
     "output_type": "stream",
     "text": [
      "highest information gain:\n",
      "column: 3, gain: 0.6903337574849777\n"
     ]
    }
   ],
   "source": [
    "# Write your code for Problem C here\n",
    "def getInfoGain(c):\n",
    "    entropy_parent = -prob_y_zero*np.log2(prob_y_zero) - prob_y_one*np.log2(prob_y_one)\n",
    "    zero_rows = 0\n",
    "    zero_rows_y_zero = 0\n",
    "    one_rows = 0\n",
    "    one_rows_y_zero = 0\n",
    "    for i in range(0, len(x)):\n",
    "        vote = x[i,c]\n",
    "        if vote == 0:\n",
    "            zero_rows += 1\n",
    "            if y[i] == 0:\n",
    "                zero_rows_y_zero += 1\n",
    "        else:\n",
    "            one_rows += 1\n",
    "            if y[i] == 0:\n",
    "                one_rows_y_zero += 1\n",
    "    pr_y_zero_row_zero = zero_rows_y_zero/zero_rows\n",
    "    pr_y_one_row_zero = 1 - pr_y_zero_row_zero\n",
    "    pr_y_zero_row_one = one_rows_y_zero/one_rows\n",
    "    pr_y_one_row_one = 1 - pr_y_zero_row_one\n",
    "    \n",
    "    entropy_zero = -pr_y_zero_row_zero*np.log2(pr_y_zero_row_zero) - pr_y_one_row_zero*np.log2(pr_y_one_row_zero)\n",
    "    entropy_one = -pr_y_zero_row_one*np.log2(pr_y_zero_row_one) - pr_y_one_row_one*np.log2(pr_y_one_row_one)\n",
    "    \n",
    "    total_rows = zero_rows + one_rows\n",
    "    weighted_avg_child = (zero_rows/total_rows)*entropy_zero + (one_rows/total_rows)*entropy_one\n",
    "    \n",
    "    info_gain = entropy_parent - weighted_avg_child\n",
    "    return info_gain\n",
    "\n",
    "top_info_gain = 0\n",
    "top_c = -1\n",
    "for c in range(0, len(x[0])):\n",
    "    cur_info_gain = getInfoGain(c)\n",
    "    if cur_info_gain > top_info_gain:\n",
    "        top_info_gain = cur_info_gain\n",
    "        top_c = c\n",
    "\n",
    "print('highest information gain:\\ncolumn: ' + str(top_c) + ', gain: ' + str(top_info_gain))"
   ]
  },
  {
   "cell_type": "markdown",
   "metadata": {},
   "source": [
    "### Problem D\n",
    "Now that you have identified the feature with the greatest information gain, split the training data into two sets based on that feature. For each of the two sets, find the most common class (`y=1` or `y=0`) among that set. Use that information make predictions for the test data as in Part 1. Also as in Part 1, once you have your prediction, compute and print the uniform error of your prediction by comparing to `y_test`. For full credit, your classifier should have uniform error less than 0.15 on this particular data."
   ]
  },
  {
   "cell_type": "code",
   "execution_count": 9,
   "metadata": {},
   "outputs": [
    {
     "name": "stdout",
     "output_type": "stream",
     "text": [
      "0.0851063829787234\n"
     ]
    }
   ],
   "source": [
    "# Write your code for Problem D here\n",
    "predictions = []\n",
    "for i in range(0, len(x_test)):\n",
    "    prob_zero = 0\n",
    "    prob_one = 0\n",
    "    for c in range(0, len(x_test[0])):\n",
    "        if not c == top_c:\n",
    "            continue\n",
    "        if x_test[i,c] == 0:\n",
    "            prob_zero += cond_prob_zero_y_zero[c]*prob_y_zero\n",
    "            prob_one += cond_prob_zero_y_one[c]*prob_y_one\n",
    "        else:\n",
    "            prob_zero += cond_prob_one_y_zero[c]*prob_y_zero\n",
    "            prob_one += cond_prob_one_y_one[c]*prob_y_one\n",
    "    if prob_zero > prob_one:\n",
    "        predictions.append(0)\n",
    "    else:\n",
    "        predictions.append(1)\n",
    "        \n",
    "print(uniform_error(predictions, y_test))"
   ]
  },
  {
   "cell_type": "markdown",
   "metadata": {},
   "source": [
    "# Part 4: k-Nearest Neighbor Classification\n",
    "In this part, we will look at a new dataset, `iris.csv`, and explore a different technique for classification, the k-nearest neighbor classifier. This dataset contains measurements of 150 flowers of three different types. The measurements (the first four columns) are all physical measurements in centimeters, and the flower types are designated by 0, 1, and 2 in the rightmost column. Our goal is to predict the flower type from measurements of the physical dimensions of the flower. Note that unlike in Parts 1 and 2, our features are no longer categorial, but instead are numerical. That would require some adapting of our previous methods, but k-nearest neighbor actually works very well with many numerical features all of which are on the same scale.   "
   ]
  },
  {
   "cell_type": "code",
   "execution_count": 10,
   "metadata": {
    "scrolled": true
   },
   "outputs": [
    {
     "data": {
      "text/html": [
       "<div>\n",
       "<style scoped>\n",
       "    .dataframe tbody tr th:only-of-type {\n",
       "        vertical-align: middle;\n",
       "    }\n",
       "\n",
       "    .dataframe tbody tr th {\n",
       "        vertical-align: top;\n",
       "    }\n",
       "\n",
       "    .dataframe thead th {\n",
       "        text-align: right;\n",
       "    }\n",
       "</style>\n",
       "<table border=\"1\" class=\"dataframe\">\n",
       "  <thead>\n",
       "    <tr style=\"text-align: right;\">\n",
       "      <th></th>\n",
       "      <th>sepal_length</th>\n",
       "      <th>sepal_width</th>\n",
       "      <th>petal_length</th>\n",
       "      <th>petal_width</th>\n",
       "      <th>flower_type</th>\n",
       "    </tr>\n",
       "  </thead>\n",
       "  <tbody>\n",
       "    <tr>\n",
       "      <td>0</td>\n",
       "      <td>5.1</td>\n",
       "      <td>3.5</td>\n",
       "      <td>1.4</td>\n",
       "      <td>0.2</td>\n",
       "      <td>0</td>\n",
       "    </tr>\n",
       "    <tr>\n",
       "      <td>1</td>\n",
       "      <td>4.9</td>\n",
       "      <td>3.0</td>\n",
       "      <td>1.4</td>\n",
       "      <td>0.2</td>\n",
       "      <td>0</td>\n",
       "    </tr>\n",
       "    <tr>\n",
       "      <td>2</td>\n",
       "      <td>4.7</td>\n",
       "      <td>3.2</td>\n",
       "      <td>1.3</td>\n",
       "      <td>0.2</td>\n",
       "      <td>0</td>\n",
       "    </tr>\n",
       "    <tr>\n",
       "      <td>3</td>\n",
       "      <td>4.6</td>\n",
       "      <td>3.1</td>\n",
       "      <td>1.5</td>\n",
       "      <td>0.2</td>\n",
       "      <td>0</td>\n",
       "    </tr>\n",
       "    <tr>\n",
       "      <td>4</td>\n",
       "      <td>5.0</td>\n",
       "      <td>3.6</td>\n",
       "      <td>1.4</td>\n",
       "      <td>0.2</td>\n",
       "      <td>0</td>\n",
       "    </tr>\n",
       "  </tbody>\n",
       "</table>\n",
       "</div>"
      ],
      "text/plain": [
       "   sepal_length  sepal_width  petal_length  petal_width  flower_type\n",
       "0           5.1          3.5           1.4          0.2            0\n",
       "1           4.9          3.0           1.4          0.2            0\n",
       "2           4.7          3.2           1.3          0.2            0\n",
       "3           4.6          3.1           1.5          0.2            0\n",
       "4           5.0          3.6           1.4          0.2            0"
      ]
     },
     "execution_count": 10,
     "metadata": {},
     "output_type": "execute_result"
    }
   ],
   "source": [
    "df_iris = pd.read_csv('iris.csv')\n",
    "df_iris.head()"
   ]
  },
  {
   "cell_type": "markdown",
   "metadata": {},
   "source": [
    "As before, we split the dataset into training and test datasets, and separate the target `y` form the data we want to use to predict the target `x`. Review the discussion in Part 2 for more details."
   ]
  },
  {
   "cell_type": "code",
   "execution_count": 11,
   "metadata": {},
   "outputs": [
    {
     "name": "stdout",
     "output_type": "stream",
     "text": [
      "[[4.9 3.  1.4 0.2]\n",
      " [4.6 3.1 1.5 0.2]\n",
      " [5.  3.6 1.4 0.2]\n",
      " [5.  3.4 1.5 0.2]\n",
      " [4.4 2.9 1.4 0.2]]\n",
      "[0 0 0 0 0]\n"
     ]
    }
   ],
   "source": [
    "# Do not change this code, including the seed\n",
    "np.random.seed(137486213)\n",
    "test_indices = np.random.binomial(1, 0.33, df_iris.shape[0])\n",
    "df_iris['test'] = test_indices\n",
    "\n",
    "df_train = df_iris[df_iris['test']==0] \n",
    "df_test = df_iris[df_iris['test']==1] \n",
    "\n",
    "x = df_train[['sepal_length', 'sepal_width', 'petal_length', 'petal_width']].values\n",
    "x_test = df_test[['sepal_length', 'sepal_width', 'petal_length', 'petal_width']].values\n",
    "\n",
    "y = df_train['flower_type'].values\n",
    "y_test = df_test['flower_type'].values\n",
    "\n",
    "print(x[0:5,:])\n",
    "print(y[0:5])"
   ]
  },
  {
   "cell_type": "markdown",
   "metadata": {},
   "source": [
    "Note that the uniform error of a random guess on this dataset is higher than in Parts 2 and 3, because here we are trying to classify into three possible classes (`y` can be 0, 1, or 2) instead of just two classes."
   ]
  },
  {
   "cell_type": "code",
   "execution_count": 12,
   "metadata": {},
   "outputs": [
    {
     "name": "stdout",
     "output_type": "stream",
     "text": [
      "0.6875\n"
     ]
    }
   ],
   "source": [
    "random_guess = np.random.randint(3, size=len(y_test))\n",
    "print(uniform_error(random_guess, y_test))"
   ]
  },
  {
   "cell_type": "markdown",
   "metadata": {},
   "source": [
    "### Problem E\n",
    "Recall that the k-nearest neighbor algorithm works by searching for points from the training data that are similar to the point for which we want to make a prediction. We quantiy this notion by employing a distance function. The simplest example is the Euclidean distance function (that is, the distance function from your high school geometry and physics) which, given two points u and v in d dimensions, is given by $$dist(\\mathbf{u}, \\mathbf{v}) = \\sqrt{\\sum_{i=1}^{d} (u_i - v_i)^2.}$$\n",
    "\n",
    "Write a function that computes the Euclidean distance between two points represented as Numpy arrays. "
   ]
  },
  {
   "cell_type": "code",
   "execution_count": 13,
   "metadata": {},
   "outputs": [],
   "source": [
    "# Write your code for Problem E here\n",
    "def getDist(u,v):\n",
    "    dist = 0\n",
    "    for coord in range(0, len(u)):\n",
    "        dist += np.power(u[coord] - v[coord],2)\n",
    "    return np.sqrt(dist)"
   ]
  },
  {
   "cell_type": "markdown",
   "metadata": {},
   "source": [
    "### Problem F\n",
    "Now, to make predictions for a given point `p` (for example, `x_test[0,:]` would be one such point), we first find the `k` points in the training data set `x` (note that each row in `x` is a data point) with minimum distance to the point `p`. `k` is a parameter that can be set to different values, but for the purpose of this assignment, let's use `k=5`. We then predict the class (`y=2`, `y=1`, or `y=0`) that is most common among these `k` points in the training data set. \n",
    "\n",
    "Use the k-nearest neighbor algorithm to make predictions of the flower type for all of the test data. More concretely, you should compute an array of the same length as `y_test` where for each entry, your prediction is a `2`, `1`, or `0`. Once you have your prediction, compute and print the uniform error of your prediction by comparing to `y_test`. For full credit, your classifier should have uniform error less than 0.1 on this particular data."
   ]
  },
  {
   "cell_type": "code",
   "execution_count": 14,
   "metadata": {},
   "outputs": [
    {
     "name": "stdout",
     "output_type": "stream",
     "text": [
      "0.0\n"
     ]
    }
   ],
   "source": [
    "# Write your code for Problem F here\n",
    "k = 5\n",
    "predictions = []\n",
    "for i in range(0, len(x_test)):\n",
    "    nearest_neighbors = []\n",
    "    for neighbor in range(0, len(x)):\n",
    "        dist = getDist(x_test[i], x[neighbor])\n",
    "        if (len(nearest_neighbors) < k):\n",
    "            nearest_neighbors.append([neighbor, dist])\n",
    "        else:\n",
    "            worst_near_neighbor = nearest_neighbors[0]\n",
    "            for cur_near_neighbor_index in range (1, k):\n",
    "                cur_near_neighbor = nearest_neighbors[cur_near_neighbor_index]\n",
    "                if cur_near_neighbor[1] > worst_near_neighbor[1]:\n",
    "                    worst_near_neighbor = cur_near_neighbor\n",
    "            if dist < worst_near_neighbor[1]:\n",
    "                nearest_neighbors.remove(worst_near_neighbor)\n",
    "                nearest_neighbors.append([neighbor,dist])\n",
    "    nearest_neighbors_classes = []\n",
    "    for neighbor in nearest_neighbors:\n",
    "        nearest_neighbors_classes.append(y[neighbor[0]])\n",
    "    predictions.append(round(np.mean(nearest_neighbors_classes)))\n",
    "\n",
    "print(uniform_error(predictions, y_test))"
   ]
  },
  {
   "cell_type": "markdown",
   "metadata": {},
   "source": [
    "## Submitting HW 5\n",
    "1. Double check that you have written all of your answers along with your supporting work in this notebook. Make sure you save the complete notebook.\n",
    "1. Double check that your entire notebook runs correctly and generates the expected output. To do so, you can simply select Kernel -> Restart and Run All. \n",
    "2. You will download two versions of your notebook to submit, a .pdf and a .py. To create a PDF, we reccomend that you select File --> Download as --> HTML (.html). Open the downloaded .html file; it should open in your web broser. Double check that it looks like your notebook, then print a .pdf using your web browser (you should be able to select to print to a pdf on most major web browsers and operating systems). Check your .pdf for readability: If some long cells are being cut off, go back to your notebook and split them into multiple smaller cells. To get the .py file from your notebook, simply select File -> Download as -> Python (.py) (note, we recognize that you may not have written any Python code for this assignment, but will continue the usual workflow for consistency). \n",
    "3. Upload the .pdf to gradescope under hw 5 report and the .py to gradescope under hw 5 code. If you work with a partner, only submit one document for both of you, but be sure to add your partner using the [group feature on gradescope](https://www.gradescope.com/help#help-center-item-student-group-members)."
   ]
  },
  {
   "cell_type": "code",
   "execution_count": null,
   "metadata": {},
   "outputs": [],
   "source": []
  }
 ],
 "metadata": {
  "kernelspec": {
   "display_name": "Python 3",
   "language": "python",
   "name": "python3"
  },
  "language_info": {
   "codemirror_mode": {
    "name": "ipython",
    "version": 3
   },
   "file_extension": ".py",
   "mimetype": "text/x-python",
   "name": "python",
   "nbconvert_exporter": "python",
   "pygments_lexer": "ipython3",
   "version": "3.7.4"
  }
 },
 "nbformat": 4,
 "nbformat_minor": 2
}
