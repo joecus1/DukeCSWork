{
 "cells": [
  {
   "cell_type": "markdown",
   "metadata": {},
   "source": [
    "# HW 4\n",
    "__CS 216, Everything Data, Spring 2020__\n",
    "\n",
    "__DUE: Monday Feb. 17 by 4:40 pm (class time)__\n",
    "\n",
    "__NAMES: Pierce Forte (phf7), Joe Cusano (jgc28)__\n",
    "\n",
    "In this assignment, you will practice some statistical and probabilistic arguments that are useful for exploratory data analysis. You will include all of your answers for this assignment within this notebook. You will then convert your notebook to a .pdf and a .py file to submit to gradescope (submission instructions are included at the bottom).\n",
    "\n",
    "Please take note of the [course collaboration policy](https://sites.duke.edu/compsci216s2020/policies/). You may work alone or with a single partner. If you work with a partner, you may not split up the assignment; you should work together in-person or complete parts independently and come together to discuss your solutions. In either case, you are individually responsible for your work, and should understand everything in your submission."
   ]
  },
  {
   "cell_type": "markdown",
   "metadata": {},
   "source": [
    "# Part 1: Team Probabilities\n",
    "Suppose that we take 150 students and randomly assign them to groups of 5 students each by the following procedure. First, we generate a uniform random permutation of the students (that is, a random ordering where for a given student there is an equal probability of appearing at any position in the ordering from 1, 2, 3, ..., 150). Then we simply assign the first five students in the ordering to the first group, the second five to the second group, and so on. Compute the following probabilities.\n",
    "\n",
    "Note that you can arrive at your answer and show your work either analytically (show your math) or computationally (show code for your simulation). With the latter approach, you simulate the process many times, and see what fraction of these times the event of interest occcurs. In either case, we will count your answer as correct if it is correct rounded to the second decimal place (that is, if the real answer is 0.0312 and you get 0.0297, we will count that as correct)."
   ]
  },
  {
   "cell_type": "markdown",
   "metadata": {},
   "source": [
    "### Problem A\n",
    "Suppose a student has a single best friend in the class. What is the probability that a given student gets placed in a group with their best friend?"
   ]
  },
  {
   "cell_type": "code",
   "execution_count": 1,
   "metadata": {},
   "outputs": [
    {
     "name": "stdout",
     "output_type": "stream",
     "text": [
      "2.8269717302826973\n"
     ]
    }
   ],
   "source": [
    "import random\n",
    "import numpy as np\n",
    "\n",
    "def randomlyAssignGroups():\n",
    "    students = list(range(1, 151))\n",
    "    random.shuffle(students)\n",
    "\n",
    "    groups = []\n",
    "    for set_of_5 in range(0,150//5):\n",
    "        group = []\n",
    "        for k in range(0,5):\n",
    "            group.append(students[(set_of_5*5 + k)])\n",
    "        groups.append(group)\n",
    "    return groups\n",
    "\n",
    "def inSameRandomGroup(person_a, person_b, groups):\n",
    "    for group in groups:\n",
    "        if person_a in group and person_b in group:\n",
    "            return True\n",
    "    return False\n",
    "    \n",
    "person = 1\n",
    "friend = 2\n",
    "\n",
    "sameGroup = 0\n",
    "total = 0\n",
    "for i in range(0, 100001):\n",
    "    total+=1\n",
    "    groups = randomlyAssignGroups()\n",
    "    if inSameRandomGroup(person, friend, groups):\n",
    "        sameGroup+=1\n",
    "        \n",
    "print(100*(sameGroup/total))\n"
   ]
  },
  {
   "cell_type": "markdown",
   "metadata": {},
   "source": [
    "We used code to determine that the probability is around 3%.  "
   ]
  },
  {
   "cell_type": "markdown",
   "metadata": {},
   "source": [
    "### Problem B\n",
    "Suppose a student has a single worst enemy in the class. What is the probability that a given student is *not* placed in a group with their worst enemy?"
   ]
  },
  {
   "cell_type": "code",
   "execution_count": 2,
   "metadata": {},
   "outputs": [
    {
     "name": "stdout",
     "output_type": "stream",
     "text": [
      "97.28027197280272\n"
     ]
    }
   ],
   "source": [
    "person = 1\n",
    "enemy = 2\n",
    "\n",
    "diffGroup = 0\n",
    "total = 0\n",
    "for i in range(0, 10001):\n",
    "    total+=1\n",
    "    groups = randomlyAssignGroups()\n",
    "    if not inSameRandomGroup(person, friend, groups):\n",
    "        diffGroup+=1\n",
    "        \n",
    "print(100*(diffGroup/total))"
   ]
  },
  {
   "cell_type": "markdown",
   "metadata": {},
   "source": [
    "We used code to determine that the probability is around 97%.  This makes sense, as the probability from the previous question and this question should add up to 100%.  3% + 97% = 100%."
   ]
  },
  {
   "cell_type": "markdown",
   "metadata": {},
   "source": [
    "### Problem C\n",
    "Suppose that the best friend relationship is symmetric: if Bob is Alice's best friend, then Alice is Bob's best friend; there are exactly 75 such best friend pairs. What is the expected number of best friend pairs that get placed into the same group accross all of the groups?"
   ]
  },
  {
   "cell_type": "code",
   "execution_count": 3,
   "metadata": {},
   "outputs": [
    {
     "name": "stdout",
     "output_type": "stream",
     "text": [
      "2.0669330669330668\n"
     ]
    }
   ],
   "source": [
    "students = list(range(1, 151))\n",
    "pairs = []\n",
    "for set_of_2 in range(0,150//2):\n",
    "        pair = []\n",
    "        for k in range(0,2):\n",
    "            pair.append(students[(set_of_2*2 + k)])\n",
    "        pairs.append(pair)\n",
    "\n",
    "def numPairsInSameGroup(pairs):\n",
    "    numPairsInSameGroup = 0\n",
    "    groups = randomlyAssignGroups()\n",
    "    for pair in pairs:\n",
    "        if inSameRandomGroup(pair[0], pair[1], groups):\n",
    "            numPairsInSameGroup+=1\n",
    "    return numPairsInSameGroup\n",
    "    \n",
    "\n",
    "listOfNumPairsInSameGroup = []\n",
    "\n",
    "for i in range(0, 1001):\n",
    "    listOfNumPairsInSameGroup.append(numPairsInSameGroup(pairs))\n",
    "\n",
    "print(np.mean(listOfNumPairsInSameGroup)) # Should this be mode?"
   ]
  },
  {
   "cell_type": "markdown",
   "metadata": {},
   "source": [
    "We used code to determine that the expected number of best friend pairs that get placed into the same group across all groups should be around 2."
   ]
  },
  {
   "cell_type": "markdown",
   "metadata": {},
   "source": [
    "### Problem D\n",
    "What is the probability that every best friend pair gets placed into the same group? (*hint* Don't overthink it)."
   ]
  },
  {
   "cell_type": "code",
   "execution_count": 4,
   "metadata": {},
   "outputs": [
    {
     "name": "stdout",
     "output_type": "stream",
     "text": [
      "0.0\n"
     ]
    }
   ],
   "source": [
    "numEveryPairInSameGroup = 0\n",
    "total = 0\n",
    "\n",
    "for i in range(0, 10001):\n",
    "    total +=1\n",
    "    if numPairsInSameGroup(pairs) == 75:\n",
    "        numEveryPairInSameGroup +=1\n",
    "\n",
    "print(100*(numEveryPairInSameGroup/total))"
   ]
  },
  {
   "cell_type": "markdown",
   "metadata": {},
   "source": [
    "We used code to determine that the probability that every best friend pair gets placed into the same group is extremely small (around 0%)."
   ]
  },
  {
   "cell_type": "markdown",
   "metadata": {},
   "source": [
    "### Problem E \n",
    "What is the probability that no best friend pairs get placed into the same group?"
   ]
  },
  {
   "cell_type": "code",
   "execution_count": 5,
   "metadata": {},
   "outputs": [
    {
     "name": "stdout",
     "output_type": "stream",
     "text": [
      "12.974870251297489\n"
     ]
    }
   ],
   "source": [
    "numNoPairsInSameGroup = 0\n",
    "total = 0\n",
    "\n",
    "for i in range(0, 100001):\n",
    "    total +=1\n",
    "    if numPairsInSameGroup(pairs) == 0:\n",
    "        numNoPairsInSameGroup +=1\n",
    "\n",
    "print(100*(numNoPairsInSameGroup/total))"
   ]
  },
  {
   "cell_type": "markdown",
   "metadata": {},
   "source": [
    "The probability that no best friend pairs are placed into the same group is around 13%."
   ]
  },
  {
   "cell_type": "markdown",
   "metadata": {},
   "source": [
    "### Problem F\n",
    "Now suppose that we couldn't get a big enough room, and there are 5 sections of the class that meet at different times, each with 30 students. Suppose we randomly assign groups as before, but only within sections so that there are 6 random groups with students from the first section, 6 random groups with students from the second section, and so on.\n",
    "\n",
    "Reasonably enough, students may prefer to sign up for sections with their best friends. Suppose that 50 out of the 75 best friend pairs signed up for the same sections, and 25 of the best friend pairs had to take different sections. Given this information, what is the expected number of best friend pairs that get placed into the same group accross all of the groups?"
   ]
  },
  {
   "cell_type": "code",
   "execution_count": 6,
   "metadata": {},
   "outputs": [
    {
     "name": "stdout",
     "output_type": "stream",
     "text": [
      "6.8551448551448555\n"
     ]
    }
   ],
   "source": [
    "def assignSections():\n",
    "    sections = [[],[],[],[],[]]\n",
    "\n",
    "    for i in range (0, 50):\n",
    "        section = (i*2) // 20\n",
    "        for student in pairs[i]:\n",
    "            sections[section].append(student)\n",
    "    \n",
    "    for i in range (50, 75):\n",
    "        for student in pairs[i]:\n",
    "            section = student%5\n",
    "            sections[section].append(student)\n",
    "            \n",
    "    return sections\n",
    "\n",
    "def randomlyAssignGroupsInSection():\n",
    "    section_groups = [[],[],[],[],[]]\n",
    "    sections = assignSections()\n",
    "    for section in sections:\n",
    "        random.shuffle(section)\n",
    "    groups = []\n",
    "    \n",
    "    for i in range(0,len(sections)):\n",
    "        section = sections[i]\n",
    "\n",
    "        for set_of_5 in range(0,30//5):\n",
    "            group = []\n",
    "            for k in range(0,5):\n",
    "                group.append(section[(set_of_5*5 + k)])\n",
    "            section_groups[i].append(group)\n",
    "        \n",
    "    return section_groups\n",
    "\n",
    "def numPairsInSameSectionGroup(pairs):\n",
    "    numPairsInSameGroup = 0\n",
    "    section_groups = randomlyAssignGroupsInSection()\n",
    "    for pair in pairs:\n",
    "        for section in section_groups:\n",
    "            if inSameRandomGroup(pair[0], pair[1], section):\n",
    "                numPairsInSameGroup+=1\n",
    "    \n",
    "    return numPairsInSameGroup\n",
    "\n",
    "\n",
    "listOfNumPairsInSameGroup = []\n",
    "for i in range(0, 1001):\n",
    "    listOfNumPairsInSameGroup.append(numPairsInSameSectionGroup(pairs))\n",
    "\n",
    "print(np.mean(listOfNumPairsInSameGroup))"
   ]
  },
  {
   "cell_type": "markdown",
   "metadata": {},
   "source": [
    "The expected number of best friends that get placed into the same group is around 7."
   ]
  },
  {
   "cell_type": "markdown",
   "metadata": {},
   "source": [
    "# Part 2: Birthmonth Probabilities\n",
    "To simplify this problem, assume that a year has twelve equal duration months, rather than the unequal months in the standard calendar. As before, show your work, either mathematical reasoning or simulation code."
   ]
  },
  {
   "cell_type": "markdown",
   "metadata": {},
   "source": [
    "### Problem A\n",
    "Assuming that people are equally likely to be born in any month, how many people must be selected uniformly at random before the probability that at least two of the selected people have the same birth month is at least 1/2?"
   ]
  },
  {
   "cell_type": "code",
   "execution_count": 7,
   "metadata": {},
   "outputs": [
    {
     "name": "stdout",
     "output_type": "stream",
     "text": [
      "0.083364\n"
     ]
    }
   ],
   "source": [
    "import random\n",
    "same = 0\n",
    "runs = 1000000\n",
    "months = [\"January\", \"February\", \"March\", \"April\", \"May\", \"June\", \"July\", \"August\", \"September\", \"October\", \"November\", \"December\"]\n",
    "for i in range(runs):\n",
    "    selections = 2\n",
    "    selected = []\n",
    "    for i in range(selections):\n",
    "        selected.append(random.choice(months))\n",
    "    mySet = set(selected)\n",
    "    if len(mySet) < len(selected):\n",
    "        same += 1\n",
    "r = same / runs\n",
    "print(r)"
   ]
  },
  {
   "cell_type": "markdown",
   "metadata": {},
   "source": [
    "When 5 people are selected, the odds that at least two of the people have the same birthmonth is around .619.  When 4 people are selected, the odds that two people have the same birthmonth is around .428.  Thus, 5 people must be selected at random for the probability that at least two of the selected people to have the same birth month be at least 1/2. I altered the number of selections using the \"selections\" variable."
   ]
  },
  {
   "cell_type": "markdown",
   "metadata": {},
   "source": [
    "### Problem B\n",
    "Now assume that for each month among May, June, July, and August, the probability of being born in that month is 1/10, whereas for every other month the probability of being born in that month is 3/40. What is the probability that two people selected uniformly at random have the same birth month? Is this more or less than in problem A?"
   ]
  },
  {
   "cell_type": "code",
   "execution_count": 8,
   "metadata": {},
   "outputs": [
    {
     "name": "stdout",
     "output_type": "stream",
     "text": [
      "0.085061\n"
     ]
    }
   ],
   "source": [
    "import random\n",
    "same = 0\n",
    "runs = 1000000\n",
    "months = [\"January\", \"February\", \"March\", \"April\", \"May\", \"June\", \"July\", \"August\", \"September\", \"October\", \"November\", \"December\"]\n",
    "specialMonths = [\"May\", \"June\", \"July\", \"August\"]\n",
    "editedMonths = []\n",
    "for month in months:\n",
    "    if month in specialMonths:\n",
    "        for i in range(4):\n",
    "            editedMonths.append(month)\n",
    "    else:\n",
    "        for i in range(3):\n",
    "            editedMonths.append(month)\n",
    "for i in range(runs):\n",
    "    selections = 2\n",
    "    selected = []\n",
    "    for i in range(selections):\n",
    "        selected.append(random.choice(editedMonths))\n",
    "    mySet = set(selected)\n",
    "    if len(mySet) < len(selected):\n",
    "        same += 1\n",
    "r = same / runs\n",
    "print(r)"
   ]
  },
  {
   "cell_type": "markdown",
   "metadata": {},
   "source": [
    "When two people are selected at random, the probability that they have the same birth month is around .083 when the probability of being born in any given month is uniform.  When two people are selected at random the probability of being born in the same month is around 0.085 when the probability of being born in any given month is not uniform.  Thus, there is a slightly greater probability in the second scenario.  However, this greater probability could potentially be atrriubuted to the variability of the simulation."
   ]
  },
  {
   "cell_type": "markdown",
   "metadata": {},
   "source": [
    "# Part 3: Exploring Movie Lens Data\n",
    "The movie lens dataset contains about 100,000 ratings from 1000 users on 1700 movies, made available by grouplen.org. This information is in three files: `u.user`, `u.data`, and `u.item`. Below, we import the relevant information into three dataframes (about the users, the ratings, and the movies). You are welcome to work directly with these dataframes, or to transform the data however you like for solving the problems in this part. Most of the data is self explanatory, but be sure to note that a given movie can be categorized as multiple genres (see the movies dataframe / `u.item` file below). To denote this, each row of the table corresponds to a given movie, and there is a column for every genre; there is a 1 in the column if the movie is of that genre, and a 0 otherwise."
   ]
  },
  {
   "cell_type": "code",
   "execution_count": 9,
   "metadata": {},
   "outputs": [
    {
     "data": {
      "text/html": [
       "<div>\n",
       "<style scoped>\n",
       "    .dataframe tbody tr th:only-of-type {\n",
       "        vertical-align: middle;\n",
       "    }\n",
       "\n",
       "    .dataframe tbody tr th {\n",
       "        vertical-align: top;\n",
       "    }\n",
       "\n",
       "    .dataframe thead th {\n",
       "        text-align: right;\n",
       "    }\n",
       "</style>\n",
       "<table border=\"1\" class=\"dataframe\">\n",
       "  <thead>\n",
       "    <tr style=\"text-align: right;\">\n",
       "      <th></th>\n",
       "      <th>user_id</th>\n",
       "      <th>age</th>\n",
       "      <th>sex</th>\n",
       "      <th>occupation</th>\n",
       "      <th>zip</th>\n",
       "    </tr>\n",
       "  </thead>\n",
       "  <tbody>\n",
       "    <tr>\n",
       "      <td>0</td>\n",
       "      <td>1</td>\n",
       "      <td>24</td>\n",
       "      <td>M</td>\n",
       "      <td>technician</td>\n",
       "      <td>85711</td>\n",
       "    </tr>\n",
       "    <tr>\n",
       "      <td>1</td>\n",
       "      <td>2</td>\n",
       "      <td>53</td>\n",
       "      <td>F</td>\n",
       "      <td>other</td>\n",
       "      <td>94043</td>\n",
       "    </tr>\n",
       "    <tr>\n",
       "      <td>2</td>\n",
       "      <td>3</td>\n",
       "      <td>23</td>\n",
       "      <td>M</td>\n",
       "      <td>writer</td>\n",
       "      <td>32067</td>\n",
       "    </tr>\n",
       "    <tr>\n",
       "      <td>3</td>\n",
       "      <td>4</td>\n",
       "      <td>24</td>\n",
       "      <td>M</td>\n",
       "      <td>technician</td>\n",
       "      <td>43537</td>\n",
       "    </tr>\n",
       "    <tr>\n",
       "      <td>4</td>\n",
       "      <td>5</td>\n",
       "      <td>33</td>\n",
       "      <td>F</td>\n",
       "      <td>other</td>\n",
       "      <td>15213</td>\n",
       "    </tr>\n",
       "  </tbody>\n",
       "</table>\n",
       "</div>"
      ],
      "text/plain": [
       "   user_id  age sex  occupation    zip\n",
       "0        1   24   M  technician  85711\n",
       "1        2   53   F       other  94043\n",
       "2        3   23   M      writer  32067\n",
       "3        4   24   M  technician  43537\n",
       "4        5   33   F       other  15213"
      ]
     },
     "execution_count": 9,
     "metadata": {},
     "output_type": "execute_result"
    }
   ],
   "source": [
    "import pandas as pd\n",
    "\n",
    "df_users = pd.read_table('u.user', sep='|', names = ['user_id', 'age', 'sex', 'occupation', 'zip'])\n",
    "df_users.head()"
   ]
  },
  {
   "cell_type": "code",
   "execution_count": 10,
   "metadata": {},
   "outputs": [
    {
     "data": {
      "text/html": [
       "<div>\n",
       "<style scoped>\n",
       "    .dataframe tbody tr th:only-of-type {\n",
       "        vertical-align: middle;\n",
       "    }\n",
       "\n",
       "    .dataframe tbody tr th {\n",
       "        vertical-align: top;\n",
       "    }\n",
       "\n",
       "    .dataframe thead th {\n",
       "        text-align: right;\n",
       "    }\n",
       "</style>\n",
       "<table border=\"1\" class=\"dataframe\">\n",
       "  <thead>\n",
       "    <tr style=\"text-align: right;\">\n",
       "      <th></th>\n",
       "      <th>user_id</th>\n",
       "      <th>movie_id</th>\n",
       "      <th>rating</th>\n",
       "      <th>timestamp</th>\n",
       "    </tr>\n",
       "  </thead>\n",
       "  <tbody>\n",
       "    <tr>\n",
       "      <td>0</td>\n",
       "      <td>196</td>\n",
       "      <td>242</td>\n",
       "      <td>3</td>\n",
       "      <td>881250949</td>\n",
       "    </tr>\n",
       "    <tr>\n",
       "      <td>1</td>\n",
       "      <td>186</td>\n",
       "      <td>302</td>\n",
       "      <td>3</td>\n",
       "      <td>891717742</td>\n",
       "    </tr>\n",
       "    <tr>\n",
       "      <td>2</td>\n",
       "      <td>22</td>\n",
       "      <td>377</td>\n",
       "      <td>1</td>\n",
       "      <td>878887116</td>\n",
       "    </tr>\n",
       "    <tr>\n",
       "      <td>3</td>\n",
       "      <td>244</td>\n",
       "      <td>51</td>\n",
       "      <td>2</td>\n",
       "      <td>880606923</td>\n",
       "    </tr>\n",
       "    <tr>\n",
       "      <td>4</td>\n",
       "      <td>166</td>\n",
       "      <td>346</td>\n",
       "      <td>1</td>\n",
       "      <td>886397596</td>\n",
       "    </tr>\n",
       "  </tbody>\n",
       "</table>\n",
       "</div>"
      ],
      "text/plain": [
       "   user_id  movie_id  rating  timestamp\n",
       "0      196       242       3  881250949\n",
       "1      186       302       3  891717742\n",
       "2       22       377       1  878887116\n",
       "3      244        51       2  880606923\n",
       "4      166       346       1  886397596"
      ]
     },
     "execution_count": 10,
     "metadata": {},
     "output_type": "execute_result"
    }
   ],
   "source": [
    "df_ratings = pd.read_table('u.data', sep=',', names = ['user_id', 'movie_id', 'rating', 'timestamp'])\n",
    "df_ratings.head()"
   ]
  },
  {
   "cell_type": "code",
   "execution_count": 11,
   "metadata": {},
   "outputs": [
    {
     "data": {
      "text/html": [
       "<div>\n",
       "<style scoped>\n",
       "    .dataframe tbody tr th:only-of-type {\n",
       "        vertical-align: middle;\n",
       "    }\n",
       "\n",
       "    .dataframe tbody tr th {\n",
       "        vertical-align: top;\n",
       "    }\n",
       "\n",
       "    .dataframe thead th {\n",
       "        text-align: right;\n",
       "    }\n",
       "</style>\n",
       "<table border=\"1\" class=\"dataframe\">\n",
       "  <thead>\n",
       "    <tr style=\"text-align: right;\">\n",
       "      <th></th>\n",
       "      <th>movie_id</th>\n",
       "      <th>movie_title</th>\n",
       "      <th>release_date</th>\n",
       "      <th>video_release_date</th>\n",
       "      <th>imdb_url</th>\n",
       "      <th>unknown</th>\n",
       "      <th>action</th>\n",
       "      <th>adventure</th>\n",
       "      <th>animation</th>\n",
       "      <th>children</th>\n",
       "      <th>...</th>\n",
       "      <th>fantasy</th>\n",
       "      <th>film_noir</th>\n",
       "      <th>horror</th>\n",
       "      <th>musical</th>\n",
       "      <th>mystery</th>\n",
       "      <th>romance</th>\n",
       "      <th>sci_fi</th>\n",
       "      <th>thriller</th>\n",
       "      <th>war</th>\n",
       "      <th>western</th>\n",
       "    </tr>\n",
       "  </thead>\n",
       "  <tbody>\n",
       "    <tr>\n",
       "      <td>0</td>\n",
       "      <td>1</td>\n",
       "      <td>Toy Story (1995)</td>\n",
       "      <td>01-Jan-1995</td>\n",
       "      <td>NaN</td>\n",
       "      <td>http://us.imdb.com/M/title-exact?Toy%20Story%2...</td>\n",
       "      <td>0</td>\n",
       "      <td>0</td>\n",
       "      <td>0</td>\n",
       "      <td>1</td>\n",
       "      <td>1</td>\n",
       "      <td>...</td>\n",
       "      <td>0</td>\n",
       "      <td>0</td>\n",
       "      <td>0</td>\n",
       "      <td>0</td>\n",
       "      <td>0</td>\n",
       "      <td>0</td>\n",
       "      <td>0</td>\n",
       "      <td>0</td>\n",
       "      <td>0</td>\n",
       "      <td>0</td>\n",
       "    </tr>\n",
       "    <tr>\n",
       "      <td>1</td>\n",
       "      <td>2</td>\n",
       "      <td>GoldenEye (1995)</td>\n",
       "      <td>01-Jan-1995</td>\n",
       "      <td>NaN</td>\n",
       "      <td>http://us.imdb.com/M/title-exact?GoldenEye%20(...</td>\n",
       "      <td>0</td>\n",
       "      <td>1</td>\n",
       "      <td>1</td>\n",
       "      <td>0</td>\n",
       "      <td>0</td>\n",
       "      <td>...</td>\n",
       "      <td>0</td>\n",
       "      <td>0</td>\n",
       "      <td>0</td>\n",
       "      <td>0</td>\n",
       "      <td>0</td>\n",
       "      <td>0</td>\n",
       "      <td>0</td>\n",
       "      <td>1</td>\n",
       "      <td>0</td>\n",
       "      <td>0</td>\n",
       "    </tr>\n",
       "    <tr>\n",
       "      <td>2</td>\n",
       "      <td>3</td>\n",
       "      <td>Four Rooms (1995)</td>\n",
       "      <td>01-Jan-1995</td>\n",
       "      <td>NaN</td>\n",
       "      <td>http://us.imdb.com/M/title-exact?Four%20Rooms%...</td>\n",
       "      <td>0</td>\n",
       "      <td>0</td>\n",
       "      <td>0</td>\n",
       "      <td>0</td>\n",
       "      <td>0</td>\n",
       "      <td>...</td>\n",
       "      <td>0</td>\n",
       "      <td>0</td>\n",
       "      <td>0</td>\n",
       "      <td>0</td>\n",
       "      <td>0</td>\n",
       "      <td>0</td>\n",
       "      <td>0</td>\n",
       "      <td>1</td>\n",
       "      <td>0</td>\n",
       "      <td>0</td>\n",
       "    </tr>\n",
       "    <tr>\n",
       "      <td>3</td>\n",
       "      <td>4</td>\n",
       "      <td>Get Shorty (1995)</td>\n",
       "      <td>01-Jan-1995</td>\n",
       "      <td>NaN</td>\n",
       "      <td>http://us.imdb.com/M/title-exact?Get%20Shorty%...</td>\n",
       "      <td>0</td>\n",
       "      <td>1</td>\n",
       "      <td>0</td>\n",
       "      <td>0</td>\n",
       "      <td>0</td>\n",
       "      <td>...</td>\n",
       "      <td>0</td>\n",
       "      <td>0</td>\n",
       "      <td>0</td>\n",
       "      <td>0</td>\n",
       "      <td>0</td>\n",
       "      <td>0</td>\n",
       "      <td>0</td>\n",
       "      <td>0</td>\n",
       "      <td>0</td>\n",
       "      <td>0</td>\n",
       "    </tr>\n",
       "    <tr>\n",
       "      <td>4</td>\n",
       "      <td>5</td>\n",
       "      <td>Copycat (1995)</td>\n",
       "      <td>01-Jan-1995</td>\n",
       "      <td>NaN</td>\n",
       "      <td>http://us.imdb.com/M/title-exact?Copycat%20(1995)</td>\n",
       "      <td>0</td>\n",
       "      <td>0</td>\n",
       "      <td>0</td>\n",
       "      <td>0</td>\n",
       "      <td>0</td>\n",
       "      <td>...</td>\n",
       "      <td>0</td>\n",
       "      <td>0</td>\n",
       "      <td>0</td>\n",
       "      <td>0</td>\n",
       "      <td>0</td>\n",
       "      <td>0</td>\n",
       "      <td>0</td>\n",
       "      <td>1</td>\n",
       "      <td>0</td>\n",
       "      <td>0</td>\n",
       "    </tr>\n",
       "  </tbody>\n",
       "</table>\n",
       "<p>5 rows × 24 columns</p>\n",
       "</div>"
      ],
      "text/plain": [
       "   movie_id        movie_title release_date  video_release_date  \\\n",
       "0         1   Toy Story (1995)  01-Jan-1995                 NaN   \n",
       "1         2   GoldenEye (1995)  01-Jan-1995                 NaN   \n",
       "2         3  Four Rooms (1995)  01-Jan-1995                 NaN   \n",
       "3         4  Get Shorty (1995)  01-Jan-1995                 NaN   \n",
       "4         5     Copycat (1995)  01-Jan-1995                 NaN   \n",
       "\n",
       "                                            imdb_url  unknown  action  \\\n",
       "0  http://us.imdb.com/M/title-exact?Toy%20Story%2...        0       0   \n",
       "1  http://us.imdb.com/M/title-exact?GoldenEye%20(...        0       1   \n",
       "2  http://us.imdb.com/M/title-exact?Four%20Rooms%...        0       0   \n",
       "3  http://us.imdb.com/M/title-exact?Get%20Shorty%...        0       1   \n",
       "4  http://us.imdb.com/M/title-exact?Copycat%20(1995)        0       0   \n",
       "\n",
       "   adventure  animation  children  ...  fantasy  film_noir  horror  musical  \\\n",
       "0          0          1         1  ...        0          0       0        0   \n",
       "1          1          0         0  ...        0          0       0        0   \n",
       "2          0          0         0  ...        0          0       0        0   \n",
       "3          0          0         0  ...        0          0       0        0   \n",
       "4          0          0         0  ...        0          0       0        0   \n",
       "\n",
       "   mystery  romance  sci_fi  thriller  war  western  \n",
       "0        0        0       0         0    0        0  \n",
       "1        0        0       0         1    0        0  \n",
       "2        0        0       0         1    0        0  \n",
       "3        0        0       0         0    0        0  \n",
       "4        0        0       0         1    0        0  \n",
       "\n",
       "[5 rows x 24 columns]"
      ]
     },
     "execution_count": 11,
     "metadata": {},
     "output_type": "execute_result"
    }
   ],
   "source": [
    "df_movies = pd.read_table('u.item', sep='|', encoding='latin',\\\n",
    "                          names = ['movie_id', 'movie_title', 'release_date', 'video_release_date',\\\n",
    "                                    'imdb_url', 'unknown', 'action', 'adventure', 'animation',\\\n",
    "                                    'children', 'comedy', 'crime', 'documentary', 'drama', 'fantasy',\\\n",
    "                                    'film_noir', 'horror', 'musical', 'mystery', 'romance', 'sci_fi',\\\n",
    "                                    'thriller', 'war', 'western'])\n",
    "df_movies.head()"
   ]
  },
  {
   "cell_type": "markdown",
   "metadata": {},
   "source": [
    "### Problem A\n",
    "Compute the average rating for every genre of movie (for your convenience, we define the genres as a list below corresponding to the column names in the movies dataframe). Which genre is rated the highest on average? "
   ]
  },
  {
   "cell_type": "code",
   "execution_count": 12,
   "metadata": {},
   "outputs": [],
   "source": [
    "genres = ['unknown', 'action', 'adventure', 'animation', 'children', \n",
    "          'comedy', 'crime', 'documentary', 'drama', 'fantasy', \n",
    "          'film_noir', 'horror', 'musical', 'mystery', 'romance', \n",
    "          'sci_fi','thriller', 'war', 'western']"
   ]
  },
  {
   "cell_type": "code",
   "execution_count": 13,
   "metadata": {},
   "outputs": [
    {
     "name": "stdout",
     "output_type": "stream",
     "text": [
      "Top Genre: film_noir\n",
      "Rating: 3.8333333333333335\n"
     ]
    }
   ],
   "source": [
    "moviesByGenre = {}\n",
    "for genre in genres:\n",
    "    moviesByGenre[genre] = []\n",
    "\n",
    "for i in range(0, len(df_movies)):\n",
    "    for genre in genres:\n",
    "        if df_movies[genre][i] == 1:\n",
    "            moviesByGenre[genre].append(df_movies['movie_id'][i])\n",
    "\n",
    "ratingsByGenre = {}\n",
    "for genre in genres:\n",
    "    ratings = []\n",
    "    for movieId in moviesByGenre[genre]:\n",
    "        index = list(df_ratings['movie_id']).index(movieId)\n",
    "        rating = df_ratings['rating'][index]\n",
    "        ratings.append(rating)\n",
    "    if len(ratings) == 0: \n",
    "        ratingsByGenre[genre] = 0\n",
    "    else:\n",
    "        ratingsByGenre[genre] = np.mean(ratings)\n",
    "\n",
    "topGenre = ''\n",
    "topRating = -1\n",
    "for key, value in ratingsByGenre.items():\n",
    "    if value > topRating:\n",
    "        topRating = value\n",
    "        topGenre = key\n",
    "\n",
    "print('Top Genre: ' + topGenre + '\\nRating: ' + str(topRating))"
   ]
  },
  {
   "cell_type": "markdown",
   "metadata": {},
   "source": [
    "The genre with the highest average rating is 'film_noir', which has an average rating of about 3.83. To determine this information, the moviesByGenre dictionary was filled in to associate each genre with each movie that is part of that genre. Next, the rating of each movie in a given genre was found, and the average of these ratings for that genre was placed into the ratingsByGenre dictionary. Finally, the highest average rating was found from the values in this dictionary, and the associated key (genre) was the one with the highest average."
   ]
  },
  {
   "cell_type": "markdown",
   "metadata": {},
   "source": [
    "### Problem B\n",
    "What is the probability that a random user likes (rates 4 or 5) at least one horror movies given that the the user likes (rates 4 or 5) at least one musical."
   ]
  },
  {
   "cell_type": "code",
   "execution_count": 14,
   "metadata": {},
   "outputs": [
    {
     "name": "stdout",
     "output_type": "stream",
     "text": [
      "76.45235476452355\n"
     ]
    }
   ],
   "source": [
    "# Write your code to solve Problem B here\n",
    "def doesUserLikeGenre(user, genre):\n",
    "    my_user_ratings = df_ratings.loc[df_ratings['user_id'] == user]\n",
    "    for key in my_user_ratings['user_id'].keys():\n",
    "        if my_user_ratings['movie_id'][key] in moviesByGenre[genre]:\n",
    "            if my_user_ratings['rating'][key] >= 4:\n",
    "                 return True\n",
    "    return False\n",
    "\n",
    "def doesUserLikeBothGenres(user, genre_a, genre_b):\n",
    "    likesA = False\n",
    "    likesB = False\n",
    "    my_user_ratings = df_ratings.loc[df_ratings['user_id'] == user]\n",
    "    for key in my_user_ratings['user_id'].keys():\n",
    "        if my_user_ratings['movie_id'][key] in moviesByGenre[genre_a]:\n",
    "            if my_user_ratings['rating'][key] >= 4:\n",
    "                 likesA = True\n",
    "        if my_user_ratings['movie_id'][key] in moviesByGenre[genre_b]:\n",
    "            if my_user_ratings['rating'][key] >= 4:\n",
    "                likesB = True\n",
    "        if likesA and likesB:\n",
    "            return True\n",
    "    return False\n",
    "\n",
    "\n",
    "users = []\n",
    "for i in range (0, len(df_users)):\n",
    "    user = df_users['user_id'][i]\n",
    "    if doesUserLikeGenre(user, 'musical'):\n",
    "        users.append(user)\n",
    "\n",
    "likesBothGenres = 0\n",
    "total = 0\n",
    "\n",
    "for i in range(0, 10001):\n",
    "    total +=1\n",
    "    random.shuffle(users)\n",
    "    # check if user also likes comedy\n",
    "    if doesUserLikeGenre(users[0], 'horror'):\n",
    "        likesBothGenres +=1\n",
    "\n",
    "print(100*(likesBothGenres/total))"
   ]
  },
  {
   "cell_type": "markdown",
   "metadata": {},
   "source": [
    "The probability that a random user likes (rates 4 or 5) at least one horror movie given that the the user likes (rates 4 or 5) at least one musical is about 76%. This is information was determined by simulating many random events. In each event, a random user was selected from a list of users who liked at least one musical. From there, it was determined whether that person also liked at least one horror movie. Random users who also liked a horror movie given that they liked a musical were summed, and this sum was divided by the total number of random events to obtain the above probability."
   ]
  },
  {
   "cell_type": "markdown",
   "metadata": {},
   "source": [
    "### Problem C\n",
    "What is the expected age of a random user that likes (rates a 4 or 5) at least one children's movie?"
   ]
  },
  {
   "cell_type": "code",
   "execution_count": 15,
   "metadata": {},
   "outputs": [
    {
     "name": "stdout",
     "output_type": "stream",
     "text": [
      "33.93940605939406\n"
     ]
    }
   ],
   "source": [
    "# Write your code to solve Problem C here\n",
    "def getUsersWhoLikeGenre(genre):\n",
    "    users = set()\n",
    "    for i in range(0, len(df_ratings)):\n",
    "        if df_ratings['movie_id'][i] in moviesByGenre[genre] and df_ratings['rating'][i] >= 4:\n",
    "            users.add(df_ratings['user_id'][i])\n",
    "    return users\n",
    "\n",
    "usersWhoLikeChildMovie = list(getUsersWhoLikeGenre('children'))\n",
    "expectedAges = []\n",
    "\n",
    "for i in range(0, 10001):\n",
    "    random.shuffle(usersWhoLikeChildMovie)\n",
    "    user_rows = list(df_users['user_id'])\n",
    "    random_user_row = user_rows.index(usersWhoLikeChildMovie[0])\n",
    "    age = df_users['age'][random_user_row]\n",
    "    expectedAges.append(age)\n",
    "\n",
    "print(np.mean(expectedAges))"
   ]
  },
  {
   "cell_type": "markdown",
   "metadata": {},
   "source": [
    "The expected age of a random user who likes at least one children's movie is about 34 years old. This information was determined by first creating a set of all users who liked at least one children's movie. Then, a random simulation with many events selected a random user from this list each time and recorded the user's age. Finally, the average of these recorded ages was determined to obtain the above expected age."
   ]
  },
  {
   "cell_type": "markdown",
   "metadata": {},
   "source": [
    "### Problem D\n",
    "Is the probability that a random user likes (rates a 4 or 5) at least one drama independent of the probability that a random user likes (rates a 4 or 5) at least one comedy? Explain your answer."
   ]
  },
  {
   "cell_type": "code",
   "execution_count": 16,
   "metadata": {},
   "outputs": [
    {
     "name": "stdout",
     "output_type": "stream",
     "text": [
      "Probability likes drama: 99.6810031899681\n",
      "Probability likes comedy: 97.08602913970861\n",
      "Probability likes both: 96.8630313696863\n",
      "\n",
      "A and B: 96.8630313696863\n",
      "A*B: 96.77632780376629\n"
     ]
    }
   ],
   "source": [
    "# Write your code to solve Problem D here\n",
    "doesUserLikeGenre(3, 'drama')\n",
    "\n",
    "total = 0\n",
    "numLikesDrama = 0\n",
    "numLikesComedy = 0\n",
    "numLikesBoth = 0\n",
    "\n",
    "users = []\n",
    "for i in range (0, len(df_users)):\n",
    "    users.append(df_users['user_id'][i])\n",
    "\n",
    "for i in range(0, 100001):\n",
    "    total += 1\n",
    "    random.shuffle(users)\n",
    "    user = users[0]\n",
    "    likesDrama = doesUserLikeGenre(user, 'drama')\n",
    "    likesComedy = doesUserLikeGenre(user, 'comedy')\n",
    "    likesBoth = doesUserLikeBothGenres(user, 'drama', 'comedy')\n",
    "    if likesDrama:\n",
    "        numLikesDrama += 1\n",
    "    if likesComedy:\n",
    "        numLikesComedy += 1\n",
    "    if likesBoth: \n",
    "        numLikesBoth += 1\n",
    "        \n",
    "print('Probability likes drama: ' + str(100*(numLikesDrama/total)))\n",
    "print('Probability likes comedy: ' + str(100*(numLikesComedy/total)))\n",
    "print('Probability likes both: ' + str(100*(numLikesBoth/total)))\n",
    "\n",
    "print('\\nA and B: ' + str(100*(numLikesBoth/total)))\n",
    "print('A*B: ' + str(100*((numLikesDrama/total)*(numLikesComedy/total))))"
   ]
  },
  {
   "cell_type": "markdown",
   "metadata": {},
   "source": [
    "*Write your answer to Problem D here.* \n",
    "\n",
    "We check whether P(A ∩ B) equals P(A) x P(B), where A is the event that the user likes at least one drama, and B is the event that the user likes at least one comedy. Because these probabilities are equal as demonstrated above with code, we can say that the two events are independent."
   ]
  },
  {
   "cell_type": "markdown",
   "metadata": {},
   "source": [
    "## Submitting HW 4\n",
    "1. Double check that you have written all of your answers along with your supporting work in this notebook. Make sure you save the complete notebook.\n",
    "1. Double check that your entire notebook runs correctly and generates the expected output. To do so, you can simply select Kernel -> Restart and Run All. \n",
    "2. You will download two versions of your notebook to submit, a .pdf and a .py. To create a PDF, we reccomend that you select File --> Download as --> HTML (.html). Open the downloaded .html file; it should open in your web broser. Double check that it looks like your notebook, then print a .pdf using your web browser (you should be able to select to print to a pdf on most major web browsers and operating systems). Check your .pdf for readability: If some long cells are being cut off, go back to your notebook and split them into multiple smaller cells. To get the .py file from your notebook, simply select File -> Download as -> Python (.py) (note, we recognize that you may not have written any Python code for this assignment, but will continue the usual workflow for consistency). \n",
    "3. Upload the .pdf to gradescope under hw4 report and the .py to gradescope under hw4 code. If you work with a partner, only submit one document for both of you, but be sure to add your partner using the [group feature on gradescope](https://www.gradescope.com/help#help-center-item-student-group-members)."
   ]
  },
  {
   "cell_type": "code",
   "execution_count": null,
   "metadata": {},
   "outputs": [],
   "source": []
  }
 ],
 "metadata": {
  "kernelspec": {
   "display_name": "Python 3",
   "language": "python",
   "name": "python3"
  },
  "language_info": {
   "codemirror_mode": {
    "name": "ipython",
    "version": 3
   },
   "file_extension": ".py",
   "mimetype": "text/x-python",
   "name": "python",
   "nbconvert_exporter": "python",
   "pygments_lexer": "ipython3",
   "version": "3.7.4"
  }
 },
 "nbformat": 4,
 "nbformat_minor": 2
}
