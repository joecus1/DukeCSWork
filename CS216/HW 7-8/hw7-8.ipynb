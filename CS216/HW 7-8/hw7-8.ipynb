{
 "cells": [
  {
   "cell_type": "markdown",
   "metadata": {},
   "source": [
    "# HW 7/8\n",
    "__CS 216, Everything Data, Spring 2020__\n",
    "\n",
    "__DUE: Monday March 30 by 4:40 pm (class time)__\n",
    "\n",
    "In this assignment, you will experience using a professional grade open source library (Pytorch) for deep learning with convolutional neural networks. You will include all of your answers for this assignment within this notebook. You will then convert your notebook to a .pdf and a .py file to submit to gradescope (submission instructions are included at the bottom).\n",
    "\n",
    "Please take note of the [course collaboration policy](https://sites.duke.edu/compsci216s2020/policies/). You may work alone or with a single partner. If you work with a partner, you may not split up the assignment; you should work together or complete parts independently and come together to discuss your solutions. In either case, you are individually responsible for your work, and should understand everything in your submission."
   ]
  },
  {
   "cell_type": "markdown",
   "metadata": {},
   "source": [
    "# Part 1: Getting Started with Pytorch\n",
    "Pytorch is one of two dominant open source libraries for deep learning (the other being Tensorflow). Unlike most of the Python for data science libraries we have used so far this semester (Pandas, Numpy, Scikit-Learn, etc.), Pytorch is not included in the Anaconda distribution of Python. To get started, you will need to install Pytorch. Visit https://pytorch.org/get-started/locally/ and follow the instructions to download and install Pytorch."
   ]
  },
  {
   "cell_type": "markdown",
   "metadata": {},
   "source": [
    "You should select the `Stable (1.4)` build of Pytorch. Next, select the operating system for your computer. Use the package `Conda`, assuming that you downloaded and have been using the Anaconda distribution of Python for data science reccomended for this course. It is also possible to install using pip (or even building from the source code), but we reccomend using Anaconda. Select the language `Python`. CUDA is a NVIDIA toolkit for using NVIDIA GPUs to accelarate parallel programming; *you do not need to use CUDA for this course*. If you do not want to deal with CUDA, or if your computer does not have a compatible graphics card then you should simply select `None` for the CUDA row in the Pytorch installation guide."
   ]
  },
  {
   "cell_type": "markdown",
   "metadata": {},
   "source": [
    "Once you have selected the appropriate options, the webpage will provide the command you should run, along with other details. For quick tips for specific operating systems:\n",
    "- On a mac or linux machine, you should simply need to open your terminal and write the given command. For example, on a mac, installing without CUDA, you should simply need to open your terminal, write `conda install pytorch torchvision -c pytorch` and press enter. The library should begin downloading and installing; it may ask you for permission to proceed by writing `y` in your terminal and pressing enter.\n",
    "- On a windows machine, you will need to open your Anaconda prompt. To do so, simply click the search bar or windows start button and type `Anaconda Prompt`, you should see the app (note that you want the prompt, not the anaconda navigator). Then, simply enter the install command in the prompt. For example, if you are installing without CUDA, you should just need to write `conda install pytorch torchvision cpuonly -c pytorch` and press enter. The library should begin downloading and installing; it may ask you for permission to proceed by writing `y` in your terminal and pressing enter."
   ]
  },
  {
   "cell_type": "markdown",
   "metadata": {},
   "source": [
    "Once you have downloaded and installed Pytorch, you should check to make sure everything is working correctly. Try running the following code cell to verify. You should see the following printed:\n",
    "\n",
    "    tensor([[0.4963, 0.7682, 0.0885],\n",
    "            [0.1320, 0.3074, 0.6341],\n",
    "            [0.4901, 0.8964, 0.4556]])"
   ]
  },
  {
   "cell_type": "code",
   "execution_count": 1,
   "metadata": {},
   "outputs": [
    {
     "name": "stdout",
     "output_type": "stream",
     "text": [
      "tensor([[0.4963, 0.7682, 0.0885],\n",
      "        [0.1320, 0.3074, 0.6341],\n",
      "        [0.4901, 0.8964, 0.4556]])\n"
     ]
    }
   ],
   "source": [
    "import torch\n",
    "torch.manual_seed(0)\n",
    "x = torch.rand(3, 3)\n",
    "print(x)"
   ]
  },
  {
   "cell_type": "markdown",
   "metadata": {},
   "source": [
    "## Part 2: Pytorch Deep Learning Tutorial\n",
    "Once you have Pytorch installed and working correctly, you should familiarize yourself with the the basics of the package, especially the fundamental tensor data structure (similar to multi-dimensional Numpy arrays), the autograd package for automatic differentiation (which implements backpropagation for you), and how to define and train a neural network."
   ]
  },
  {
   "cell_type": "markdown",
   "metadata": {},
   "source": [
    "Visit https://pytorch.org/tutorials/beginner/deep_learning_60min_blitz.html and complete the 60 minute blitz. Start by watching the 2 minute embedded youtube video introducing the tutorial, then go through the four modules (What is Pytorch, Autograd: Automatic Differentiation, Neural Networks, and Training a Classifier) that make up the tutorial. All of the modules have practical code examples; we *highly recommend* that you run the code yourself as you go through the examples. You can do so in this notebook if you wish, or you can download the Jupyter notebooks provided at the top of the page for every module. You can even run the examples in Google Colab (a web platform for executing code) via the link at the top left of the module pages. We recommend that you pay special attention to the \"Training a classifier\" module, which is a very useful practical code example of defining and training a neural network that we discussed in class. "
   ]
  },
  {
   "cell_type": "markdown",
   "metadata": {},
   "source": [
    "Understanding the concepts from class and carefully going through this tutorial should prepare you for the next part of the assignment. However, there are a number of additional examples and tutorials linked at the end of the above blitz (https://pytorch.org/tutorials/beginner/blitz/cifar10_tutorial.html#where-do-i-go-next). While you are not required to do so, you should feel free to refer to these additional resources as needed. Additionally, you can find the full Pytorch documentation here: https://pytorch.org/docs/stable."
   ]
  },
  {
   "cell_type": "markdown",
   "metadata": {},
   "source": [
    "## Part 3: Convolutional Neural Networks\n",
    "Answer the following based on the code in the file [cifar10_tutorial.py](https://github.com/pytorch/tutorials/blob/master/beginner_source/blitz/cifar10_tutorial.py) from the tutorial mentioned above in Part 2 (all code here is adapted from that tutorial). You will need to modify and run parts of the code to answer the questions.\n",
    "\n",
    "If you have not already done so in this notebook, you can import the necessary Pytorch libraries, download/import the CIFAR-10 image dataset, and view some of the images from the dataset by running the below code blocks. Note that the CIFAR-10 image dataset is around 163 MB and may take some time to download."
   ]
  },
  {
   "cell_type": "code",
   "execution_count": 2,
   "metadata": {},
   "outputs": [],
   "source": [
    "# Imports all of the necessary Pytorch libraries\n",
    "\n",
    "import torch\n",
    "import torchvision\n",
    "import torchvision.transforms as transforms\n",
    "import torch.nn as nn\n",
    "import torch.nn.functional as F\n",
    "import torch.optim as optim"
   ]
  },
  {
   "cell_type": "code",
   "execution_count": 3,
   "metadata": {},
   "outputs": [
    {
     "name": "stdout",
     "output_type": "stream",
     "text": [
      "Files already downloaded and verified\n",
      "Files already downloaded and verified\n"
     ]
    }
   ],
   "source": [
    "# Downloads, imports, and formats the necessary data for this homework \n",
    "# from the CIFAR-10 image dataset. \n",
    "\n",
    "transform = transforms.Compose(\n",
    "    [transforms.ToTensor(),\n",
    "     transforms.Normalize((0.5, 0.5, 0.5), (0.5, 0.5, 0.5))])\n",
    "\n",
    "trainset = torchvision.datasets.CIFAR10(root='./data', train=True,\n",
    "                                        download=True, transform=transform)\n",
    "trainloader = torch.utils.data.DataLoader(trainset, batch_size=4,\n",
    "                                          shuffle=True, num_workers=2)\n",
    "\n",
    "testset = torchvision.datasets.CIFAR10(root='./data', train=False,\n",
    "                                       download=True, transform=transform)\n",
    "testloader = torch.utils.data.DataLoader(testset, batch_size=4,\n",
    "                                         shuffle=False, num_workers=2)\n",
    "\n",
    "classes = ('plane', 'car', 'bird', 'cat',\n",
    "           'deer', 'dog', 'frog', 'horse', 'ship', 'truck')"
   ]
  },
  {
   "cell_type": "code",
   "execution_count": 4,
   "metadata": {},
   "outputs": [
    {
     "data": {
      "image/png": "[encoded data removed]",
      "text/plain": [
       "<Figure size 432x288 with 1 Axes>"
      ]
     },
     "metadata": {
      "needs_background": "light"
     },
     "output_type": "display_data"
    },
    {
     "name": "stdout",
     "output_type": "stream",
     "text": [
      "  dog  ship  frog   car\n"
     ]
    }
   ],
   "source": [
    "# Displays images from the CIFAR-10 image dataset\n",
    "\n",
    "%matplotlib inline\n",
    "import matplotlib.pyplot as plt\n",
    "import numpy as np\n",
    "\n",
    "def imshow(img):\n",
    "    img = img / 2 + 0.5     # unnormalize\n",
    "    npimg = img.numpy()\n",
    "    plt.imshow(np.transpose(npimg, (1, 2, 0)))\n",
    "    plt.show()\n",
    "\n",
    "# get some random training images\n",
    "dataiter = iter(trainloader)\n",
    "images, labels = dataiter.next()\n",
    "\n",
    "# show images\n",
    "imshow(torchvision.utils.make_grid(images))\n",
    "# print labels\n",
    "print(' '.join('%5s' % classes[labels[j]] for j in range(4)))\n",
    "plt.show()"
   ]
  },
  {
   "cell_type": "markdown",
   "metadata": {},
   "source": [
    "Note in particular that the examples come in \"mini-batches\" of four examples / four images each. So each \"input\" to the nerual network below is actually a tensor of 4 32x32 images, each with 3 color channels."
   ]
  },
  {
   "cell_type": "markdown",
   "metadata": {},
   "source": [
    "### Problem A\n",
    "The following code defines the architecture of the convolutional neural network used in the tutorial. Make sure to run the code for use in later problems. Then, in your own words, specify the architecture by describing the kinds of layers used, their dimensions, and in what sequence they appear. Some tips:\n",
    "- Note that the init method for the class defines the types of layers, but the forward method actually defines how they appear in the network by defining forward propagation from left to right through the network.\n",
    "- Think about about the dimensions of the inputs change during a convolutional layer or a pooling layer.\n",
    "- It might be helpful to look at the Pytorch documentation to see what the parameters to the functions are.\n",
    "- If you aren't sure about how the dimensions are changing, try adding some print statements in the forward method that show you the dimensions after each operation (for example, you can print x.shape to see a tuple of dimensions; it's up to you to interpret those). Then you can try calling the net on a particular input to see what happens at each layer. Do **not** leave these print statements in once you move on training in subsequent parts of the assignment, or you will print thousands of lines and your homework will become hundreds of pages.\n",
    "- You can also break down the operations if you want by applying the convolution first, then the relu, then the pooling, etc. on separate lines if you wish. \n"
   ]
  },
  {
   "cell_type": "code",
   "execution_count": 5,
   "metadata": {},
   "outputs": [
    {
     "name": "stdout",
     "output_type": "stream",
     "text": [
      "Network architecture specified.\n"
     ]
    }
   ],
   "source": [
    "class Net(nn.Module):\n",
    "    def __init__(self):\n",
    "        super(Net, self).__init__()\n",
    "        self.conv1 = nn.Conv2d(3, 6, 5)\n",
    "        self.pool = nn.MaxPool2d(2, 2)\n",
    "        self.conv2 = nn.Conv2d(6, 16, 5)\n",
    "        self.fc1 = nn.Linear(16 * 5 * 5, 120)\n",
    "        self.fc2 = nn.Linear(120, 84)\n",
    "        self.fc3 = nn.Linear(84, 10)\n",
    "\n",
    "    def forward(self, x):\n",
    "        x = self.pool(F.relu(self.conv1(x)))\n",
    "        x = self.pool(F.relu(self.conv2(x)))\n",
    "        x = x.view(-1, 16 * 5 * 5)\n",
    "        x = F.relu(self.fc1(x))\n",
    "        x = F.relu(self.fc2(x))\n",
    "        x = self.fc3(x)\n",
    "        return x\n",
    "\n",
    "print(\"Network architecture specified.\")"
   ]
  },
  {
   "cell_type": "markdown",
   "metadata": {},
   "source": [
    "The input has dimmensions 32x32x3.  \n",
    "The dimmensions of the output of the first convolution layer are 28x28x6.  \n",
    "That output is then put through a rectified linear unit function.  \n",
    "The next layer is a pooling layer, the dimmensions of the output of which are 14x14x6.  \n",
    "The next layer is a second convolution layer, the dimmensions of the output of which are 10x10x16.  \n",
    "That output is put through a rectified linear unit function.  \n",
    "The next layer is a second pooling layer, the dimmensions of the output of which are 5x5x16.  \n",
    "The next layer is a flattening layer, the dimmensions of the output are 1x400.  \n",
    "The next few layers compose a multilayer perceptron with recitified linear unit functions in between each layer.\n",
    "The dimmensions of these layers' outputs are 1x120, 1x84, 1x10.  \n",
    "1x10 is the dimmension of the output. It is 1x10 because there are 10 possible kinds of images."
   ]
  },
  {
   "cell_type": "markdown",
   "metadata": {},
   "source": [
    "### Problem B\n",
    "Try running the code to initialize and train the neural network (taken from the tutorial; copied below) twice. Note that you won't get the same training loss values each time. Explain why. Note that this training is computationally intensive, it will take a few seconds for the code to run. A \"Finished Training\" message should print when complete (you can also see whether code is still executing in a Jupyter notebook more generally by viewing the circle in the top right of the UI: it is a white/clear circle when the kernel is idle, but it is filled-in/gray when the kernel is executing code."
   ]
  },
  {
   "cell_type": "code",
   "execution_count": 6,
   "metadata": {},
   "outputs": [
    {
     "name": "stdout",
     "output_type": "stream",
     "text": [
      "[1,  2000] loss: 2.214\n",
      "[1,  4000] loss: 1.866\n",
      "[1,  6000] loss: 1.660\n",
      "[1,  8000] loss: 1.597\n",
      "[1, 10000] loss: 1.504\n",
      "[1, 12000] loss: 1.489\n",
      "Finished Training\n"
     ]
    }
   ],
   "source": [
    "net = Net()\n",
    "criterion = nn.CrossEntropyLoss()\n",
    "optimizer = optim.SGD(net.parameters(), lr=0.001, momentum=0.9)\n",
    "for epoch in range(1):  # Just 1 epoch to make the code run faster\n",
    "\n",
    "    running_loss = 0.0\n",
    "    for i, data in enumerate(trainloader, 0):\n",
    "        # get the inputs; data is a list of [inputs, labels]\n",
    "        inputs, labels = data\n",
    "\n",
    "        # zero the parameter gradients\n",
    "        optimizer.zero_grad()\n",
    "\n",
    "        # forward + backward + optimize\n",
    "        outputs = net(inputs)\n",
    "        loss = criterion(outputs, labels)\n",
    "        loss.backward()\n",
    "        optimizer.step()\n",
    "\n",
    "        # print statistics\n",
    "        running_loss += loss.item()\n",
    "        if i % 2000 == 1999:    # print every 2000 mini-batches\n",
    "            print('[%d, %5d] loss: %.3f' %\n",
    "                  (epoch + 1, i + 1, running_loss / 2000))\n",
    "            running_loss = 0.0\n",
    "\n",
    "print('Finished Training')"
   ]
  },
  {
   "cell_type": "markdown",
   "metadata": {},
   "source": [
    "The loss values are different for each run through because the neural networks' starting weights are random so each run through starts with different initial weights."
   ]
  },
  {
   "cell_type": "markdown",
   "metadata": {},
   "source": [
    "### Problem C\n",
    "How do you think the train error and test error change when the momentum of the SGD optimizer is lowered? Try initializing and training the model twice; first with a momentum of 0.9 (used in the tutorial) and then with a momentum of 0.5. For each, report the training loss after every 2000 mini-batches (those are the training losses printed by the code) for a single epoch of training, as well as the test accuracy of the resulting model after training. Note that (as you observed in problem B), the training error can vary for different runs even with the same parameters. To make the comparison fair, we will set the state of the Pytorch optimizer. As in problem B, note that the code for training a model will take a few seconds to run.\n",
    "\n",
    "The only thing you should need to chnage in the below code is the value of the momentum parameter."
   ]
  },
  {
   "cell_type": "code",
   "execution_count": 7,
   "metadata": {},
   "outputs": [],
   "source": [
    "torch.manual_seed(0)\n",
    "net = Net()\n",
    "criterion = nn.CrossEntropyLoss()\n",
    "optimizer = optim.SGD(net.parameters(), lr=0.001, momentum=0.50)"
   ]
  },
  {
   "cell_type": "code",
   "execution_count": 8,
   "metadata": {},
   "outputs": [
    {
     "name": "stdout",
     "output_type": "stream",
     "text": [
      "[1,  2000] loss: 2.303\n",
      "[1,  4000] loss: 2.297\n",
      "[1,  6000] loss: 2.259\n",
      "[1,  8000] loss: 2.063\n",
      "[1, 10000] loss: 1.954\n",
      "[1, 12000] loss: 1.880\n",
      "Finished Training\n"
     ]
    }
   ],
   "source": [
    "for epoch in range(1):  # just 1 epoch to make the code run faster\n",
    "\n",
    "    running_loss = 0.0\n",
    "    for i, data in enumerate(trainloader, 0):\n",
    "        # get the inputs; data is a list of [inputs, labels]\n",
    "        inputs, labels = data\n",
    "\n",
    "        # zero the parameter gradients\n",
    "        optimizer.zero_grad()\n",
    "\n",
    "        # forward + backward + optimize\n",
    "        outputs = net(inputs)\n",
    "        loss = criterion(outputs, labels)\n",
    "        loss.backward()\n",
    "        optimizer.step()\n",
    "\n",
    "        # print statistics\n",
    "        running_loss += loss.item()\n",
    "        if i % 2000 == 1999:    # print every 2000 mini-batches\n",
    "            print('[%d, %5d] loss: %.3f' %\n",
    "                  (epoch + 1, i + 1, running_loss / 2000))\n",
    "            running_loss = 0.0\n",
    "\n",
    "print('Finished Training')"
   ]
  },
  {
   "cell_type": "code",
   "execution_count": 9,
   "metadata": {},
   "outputs": [
    {
     "name": "stdout",
     "output_type": "stream",
     "text": [
      "Accuracy of the network on the 10000 test images: 34 %\n"
     ]
    }
   ],
   "source": [
    "correct = 0\n",
    "total = 0\n",
    "with torch.no_grad():\n",
    "    for data in testloader:\n",
    "        images, labels = data\n",
    "        outputs = net(images)\n",
    "        _, predicted = torch.max(outputs.data, 1)\n",
    "        total += labels.size(0)\n",
    "        correct += (predicted == labels).sum().item()\n",
    "\n",
    "print('Accuracy of the network on the 10000 test images: %d %%' % (\n",
    "    100 * correct / total))"
   ]
  },
  {
   "cell_type": "markdown",
   "metadata": {},
   "source": [
    "Training loss when momentum = 0.9:\n",
    "\n",
    "    [1,  2000] loss: 2.212\n",
    "    [1,  4000] loss: 1.877\n",
    "    [1,  6000] loss: 1.692\n",
    "    [1,  8000] loss: 1.594\n",
    "    [1, 10000] loss: 1.539\n",
    "    [1, 12000] loss: 1.513\n",
    "\n",
    "Accuracy of the network on the 10000 test images when momentum = 0.9: 49 %"
   ]
  },
  {
   "cell_type": "markdown",
   "metadata": {},
   "source": [
    "Training loss when momentum = 0.5:\n",
    "\n",
    "    [1,  2000] loss: 2.303\n",
    "    [1,  4000] loss: 2.297\n",
    "    [1,  6000] loss: 2.259\n",
    "    [1,  8000] loss: 2.063\n",
    "    [1, 10000] loss: 1.954\n",
    "    [1, 12000] loss: 1.880\n",
    "\n",
    "Accuracy of the network on the 10000 test images when momentum = 0.5: 34 %"
   ]
  },
  {
   "cell_type": "markdown",
   "metadata": {},
   "source": [
    "The training loss is generally greater and the accuracy is lower when momentum is changed to 0.5.  This is likely because, with a momentum of 0.5, noise becomes an issue."
   ]
  },
  {
   "cell_type": "markdown",
   "metadata": {},
   "source": [
    "### Problem D \n",
    "In the tutorial from part 2, the author got a training error of 1.294 after 2 epochs of training (note that you might get a different training error running their same code due to the randomness as discussed earlier). Try to modify the architecture of the CNN to achieve better (smaller than 1.294) training loss after 2 epochs of training. Report (in words) the final architecture you used and the test accuracy of the model. As in problem C, we will set the state of the Pytorch optimizer so that training multiple times with the same architecture will result in the same training loss; you may not change the seed. As with previous problems, note that the code to train a model will take a few seconds to run."
   ]
  },
  {
   "cell_type": "code",
   "execution_count": 10,
   "metadata": {},
   "outputs": [],
   "source": [
    "# Here you can define the architecture of yor new\n",
    "# and improved neural network (BetterNet) however\n",
    "# you wish. Note that the initialization defines the \n",
    "# types of layers; the actual order of operations in the\n",
    "# network is defined in the forward method. We have\n",
    "# started by copying the tutorial specifications; you\n",
    "# will need to edit these hyperparameters to define\n",
    "# your new network.\n",
    "\n",
    "class BetterNet(nn.Module):\n",
    "    def __init__(self):\n",
    "        super(BetterNet, self).__init__()\n",
    "        self.conv1 = nn.Conv2d(3, 12, 5)\n",
    "        self.pool = nn.MaxPool2d(2, 2)\n",
    "        self.conv2 = nn.Conv2d(12, 32, 5)\n",
    "        self.fc1 = nn.Linear(32 * 5 * 5, 120)\n",
    "        self.fc2 = nn.Linear(120, 84)\n",
    "        self.fc3 = nn.Linear(84, 10)\n",
    "\n",
    "    def forward(self, x):\n",
    "        x = self.pool(F.relu(self.conv1(x)))\n",
    "        x = self.pool(F.relu(self.conv2(x)))\n",
    "        x = x.view(-1, 32 * 5 * 5)\n",
    "        x = F.relu(self.fc1(x))\n",
    "        x = F.relu(self.fc2(x))\n",
    "        x = self.fc3(x)\n",
    "        return x"
   ]
  },
  {
   "cell_type": "code",
   "execution_count": 11,
   "metadata": {},
   "outputs": [],
   "source": [
    "# Here we set the seed and initialize your new\n",
    "# neural network. You just need to run this\n",
    "# code; you should not need to edit it.\n",
    "\n",
    "torch.manual_seed(0)\n",
    "better_net = BetterNet()\n",
    "criterion = nn.CrossEntropyLoss()\n",
    "optimizer = optim.SGD(better_net.parameters(), lr=0.001, momentum=0.90)"
   ]
  },
  {
   "cell_type": "code",
   "execution_count": 12,
   "metadata": {},
   "outputs": [
    {
     "name": "stdout",
     "output_type": "stream",
     "text": [
      "[1,  2000] loss: 2.188\n",
      "[1,  4000] loss: 1.835\n",
      "[1,  6000] loss: 1.655\n",
      "[1,  8000] loss: 1.540\n",
      "[1, 10000] loss: 1.489\n",
      "[1, 12000] loss: 1.415\n",
      "[2,  2000] loss: 1.341\n",
      "[2,  4000] loss: 1.306\n",
      "[2,  6000] loss: 1.244\n",
      "[2,  8000] loss: 1.242\n",
      "[2, 10000] loss: 1.199\n",
      "[2, 12000] loss: 1.166\n",
      "Finished Training\n"
     ]
    }
   ],
   "source": [
    "# Training is conducted here. You should just\n",
    "# need to run this code for a given network \n",
    "# architecture; you should not need to edit it.\n",
    "\n",
    "for epoch in range(2):  # 2 epochs of training\n",
    "\n",
    "    running_loss = 0.0\n",
    "    for i, data in enumerate(trainloader, 0):\n",
    "        # get the inputs; data is a list of [inputs, labels]\n",
    "        inputs, labels = data\n",
    "\n",
    "        # zero the parameter gradients\n",
    "        optimizer.zero_grad()\n",
    "\n",
    "        # forward + backward + optimize\n",
    "        outputs = better_net(inputs)\n",
    "        loss = criterion(outputs, labels)\n",
    "        loss.backward()\n",
    "        optimizer.step()\n",
    "\n",
    "        # print statistics\n",
    "        running_loss += loss.item()\n",
    "        if i % 2000 == 1999:    # print every 2000 mini-batches\n",
    "            print('[%d, %5d] loss: %.3f' %\n",
    "                  (epoch + 1, i + 1, running_loss / 2000))\n",
    "            running_loss = 0.0\n",
    "\n",
    "print('Finished Training')"
   ]
  },
  {
   "cell_type": "code",
   "execution_count": 13,
   "metadata": {},
   "outputs": [
    {
     "name": "stdout",
     "output_type": "stream",
     "text": [
      "Accuracy of the network on the 10000 test images: 59 %\n"
     ]
    }
   ],
   "source": [
    "# Testing is conducted here. You should\n",
    "# just need to run this code once you \n",
    "# have finished training; you should not\n",
    "# need to edit it.\n",
    "\n",
    "correct = 0\n",
    "total = 0\n",
    "with torch.no_grad():\n",
    "    for data in testloader:\n",
    "        images, labels = data\n",
    "        outputs = better_net(images)\n",
    "        _, predicted = torch.max(outputs.data, 1)\n",
    "        total += labels.size(0)\n",
    "        correct += (predicted == labels).sum().item()\n",
    "\n",
    "print('Accuracy of the network on the 10000 test images: %d %%' % (\n",
    "    100 * correct / total))"
   ]
  },
  {
   "cell_type": "markdown",
   "metadata": {},
   "source": [
    "I was able to get a final training error of 1.166 and an accuracy of 59%.  I changed the number of channels output by the two convolutional layers to do this.  I changed the first one from 6 to 12 and the second one from 16 to 32."
   ]
  },
  {
   "cell_type": "markdown",
   "metadata": {},
   "source": [
    "## Submitting HW 7-8\n",
    "1. Double check that you have written all of your answers along with your supporting work in this notebook. Make sure you save the complete notebook.\n",
    "1. Double check that your entire notebook runs correctly and generates the expected output. To do so, you can simply select Kernel -> Restart and Run All. \n",
    "2. You will download two versions of your notebook to submit, a .pdf and a .py. To create a PDF, we reccomend that you select File --> Download as --> HTML (.html). Open the downloaded .html file; it should open in your web broser. Double check that it looks like your notebook, then print a .pdf using your web browser (you should be able to select to print to a pdf on most major web browsers and operating systems). Check your .pdf for readability: If some long cells are being cut off, go back to your notebook and split them into multiple smaller cells. To get the .py file from your notebook, simply select File -> Download as -> Python (.py) (note, we recognize that you may not have written any Python code for this assignment, but will continue the usual workflow for consistency). \n",
    "3. Upload the .pdf to gradescope under hw 7-8 report and the .py to gradescope under hw 7-8 code. If you work with a partner, only submit one document for both of you, but be sure to add your partner using the [group feature on gradescope](https://www.gradescope.com/help#help-center-item-student-group-members)."
   ]
  }
 ],
 "metadata": {
  "kernelspec": {
   "display_name": "Python 3",
   "language": "python",
   "name": "python3"
  },
  "language_info": {
   "codemirror_mode": {
    "name": "ipython",
    "version": 3
   },
   "file_extension": ".py",
   "mimetype": "text/x-python",
   "name": "python",
   "nbconvert_exporter": "python",
   "pygments_lexer": "ipython3",
   "version": "3.7.4"
  }
 },
 "nbformat": 4,
 "nbformat_minor": 2
}
